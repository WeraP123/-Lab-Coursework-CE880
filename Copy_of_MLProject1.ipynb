{
  "cells": [
    {
      "cell_type": "markdown",
      "metadata": {
        "id": "view-in-github",
        "colab_type": "text"
      },
      "source": [
        "<a href=\"https://colab.research.google.com/github/WeraP123/-Lab-Coursework-CE880/blob/main/Copy_of_MLProject1.ipynb\" target=\"_parent\"><img src=\"https://colab.research.google.com/assets/colab-badge.svg\" alt=\"Open In Colab\"/></a>"
      ]
    },
    {
      "cell_type": "code",
      "execution_count": null,
      "id": "3c254d80",
      "metadata": {
        "id": "3c254d80"
      },
      "outputs": [],
      "source": [
        "import pandas as pd\n",
        "import numpy as np\n",
        "from sklearn import preprocessing\n",
        "from sklearn.model_selection import train_test_split"
      ]
    },
    {
      "cell_type": "markdown",
      "source": [
        "Reading in data"
      ],
      "metadata": {
        "id": "UyCDstdfQCt5"
      },
      "id": "UyCDstdfQCt5"
    },
    {
      "cell_type": "code",
      "source": [
        "from google.colab import drive\n",
        "drive.mount('/content/drive')"
      ],
      "metadata": {
        "colab": {
          "base_uri": "https://localhost:8080/"
        },
        "id": "OTUbHrE6M03q",
        "outputId": "6f2eabfe-b1b4-40c6-8ce5-302975c21916"
      },
      "id": "OTUbHrE6M03q",
      "execution_count": null,
      "outputs": [
        {
          "output_type": "stream",
          "name": "stdout",
          "text": [
            "Mounted at /content/drive\n"
          ]
        }
      ]
    },
    {
      "cell_type": "code",
      "source": [
        "store = pd.read_csv(\"/content/drive/MyDrive/Colab Notebooks/rossmann-store-sales/store.csv\")\n",
        "train = pd.read_csv(\"/content/drive/MyDrive/Colab Notebooks/rossmann-store-sales/train.csv\")\n",
        "test = pd.read_csv(\"/content/drive/MyDrive/Colab Notebooks/rossmann-store-sales/test.csv\")"
      ],
      "metadata": {
        "id": "A3Y5lvzTeO1Y"
      },
      "id": "A3Y5lvzTeO1Y",
      "execution_count": null,
      "outputs": []
    },
    {
      "cell_type": "code",
      "source": [
        "store = pd.read_csv(\"/content/drive/MyDrive/store.csv\")\n",
        "train = pd.read_csv(\"/content/drive/MyDrive/train.csv\")\n",
        "#test = pd.read_csv(\"/content/drive/MyDrive/Colab Notebooks/rossmann-store-sales/test.csv\")"
      ],
      "metadata": {
        "colab": {
          "base_uri": "https://localhost:8080/"
        },
        "id": "znAo0wTOP_2E",
        "outputId": "526af824-b498-4e06-d4c6-9de0b7f39f7d"
      },
      "id": "znAo0wTOP_2E",
      "execution_count": null,
      "outputs": [
        {
          "output_type": "stream",
          "name": "stderr",
          "text": [
            "/usr/local/lib/python3.8/dist-packages/IPython/core/interactiveshell.py:3326: DtypeWarning: Columns (7) have mixed types.Specify dtype option on import or set low_memory=False.\n",
            "  exec(code_obj, self.user_global_ns, self.user_ns)\n"
          ]
        }
      ]
    },
    {
      "cell_type": "markdown",
      "source": [
        "Merging data"
      ],
      "metadata": {
        "id": "4-PKUlWJPx7J"
      },
      "id": "4-PKUlWJPx7J"
    },
    {
      "cell_type": "code",
      "source": [
        "#merge store and training files\n",
        "#better to have mor eints to determine better features when compressed\n",
        "data = train.merge(store, on =['Store'], how = 'inner')\n",
        "data.head()"
      ],
      "metadata": {
        "id": "04bHiDqPP2nI",
        "colab": {
          "base_uri": "https://localhost:8080/",
          "height": 357
        },
        "outputId": "3e046936-5564-4209-e1c7-be74a32d66d3"
      },
      "id": "04bHiDqPP2nI",
      "execution_count": null,
      "outputs": [
        {
          "output_type": "execute_result",
          "data": {
            "text/plain": [
              "   Store  DayOfWeek        Date  Sales  Customers  Open  Promo StateHoliday  \\\n",
              "0      1          5  2015-07-31   5263        555     1      1            0   \n",
              "1      1          4  2015-07-30   5020        546     1      1            0   \n",
              "2      1          3  2015-07-29   4782        523     1      1            0   \n",
              "3      1          2  2015-07-28   5011        560     1      1            0   \n",
              "4      1          1  2015-07-27   6102        612     1      1            0   \n",
              "\n",
              "   SchoolHoliday StoreType Assortment  CompetitionDistance  \\\n",
              "0              1         c          a               1270.0   \n",
              "1              1         c          a               1270.0   \n",
              "2              1         c          a               1270.0   \n",
              "3              1         c          a               1270.0   \n",
              "4              1         c          a               1270.0   \n",
              "\n",
              "   CompetitionOpenSinceMonth  CompetitionOpenSinceYear  Promo2  \\\n",
              "0                        9.0                    2008.0       0   \n",
              "1                        9.0                    2008.0       0   \n",
              "2                        9.0                    2008.0       0   \n",
              "3                        9.0                    2008.0       0   \n",
              "4                        9.0                    2008.0       0   \n",
              "\n",
              "   Promo2SinceWeek  Promo2SinceYear PromoInterval  \n",
              "0              NaN              NaN           NaN  \n",
              "1              NaN              NaN           NaN  \n",
              "2              NaN              NaN           NaN  \n",
              "3              NaN              NaN           NaN  \n",
              "4              NaN              NaN           NaN  "
            ],
            "text/html": [
              "\n",
              "  <div id=\"df-0711e95d-4f43-4454-8e4f-284850c23cdd\">\n",
              "    <div class=\"colab-df-container\">\n",
              "      <div>\n",
              "<style scoped>\n",
              "    .dataframe tbody tr th:only-of-type {\n",
              "        vertical-align: middle;\n",
              "    }\n",
              "\n",
              "    .dataframe tbody tr th {\n",
              "        vertical-align: top;\n",
              "    }\n",
              "\n",
              "    .dataframe thead th {\n",
              "        text-align: right;\n",
              "    }\n",
              "</style>\n",
              "<table border=\"1\" class=\"dataframe\">\n",
              "  <thead>\n",
              "    <tr style=\"text-align: right;\">\n",
              "      <th></th>\n",
              "      <th>Store</th>\n",
              "      <th>DayOfWeek</th>\n",
              "      <th>Date</th>\n",
              "      <th>Sales</th>\n",
              "      <th>Customers</th>\n",
              "      <th>Open</th>\n",
              "      <th>Promo</th>\n",
              "      <th>StateHoliday</th>\n",
              "      <th>SchoolHoliday</th>\n",
              "      <th>StoreType</th>\n",
              "      <th>Assortment</th>\n",
              "      <th>CompetitionDistance</th>\n",
              "      <th>CompetitionOpenSinceMonth</th>\n",
              "      <th>CompetitionOpenSinceYear</th>\n",
              "      <th>Promo2</th>\n",
              "      <th>Promo2SinceWeek</th>\n",
              "      <th>Promo2SinceYear</th>\n",
              "      <th>PromoInterval</th>\n",
              "    </tr>\n",
              "  </thead>\n",
              "  <tbody>\n",
              "    <tr>\n",
              "      <th>0</th>\n",
              "      <td>1</td>\n",
              "      <td>5</td>\n",
              "      <td>2015-07-31</td>\n",
              "      <td>5263</td>\n",
              "      <td>555</td>\n",
              "      <td>1</td>\n",
              "      <td>1</td>\n",
              "      <td>0</td>\n",
              "      <td>1</td>\n",
              "      <td>c</td>\n",
              "      <td>a</td>\n",
              "      <td>1270.0</td>\n",
              "      <td>9.0</td>\n",
              "      <td>2008.0</td>\n",
              "      <td>0</td>\n",
              "      <td>NaN</td>\n",
              "      <td>NaN</td>\n",
              "      <td>NaN</td>\n",
              "    </tr>\n",
              "    <tr>\n",
              "      <th>1</th>\n",
              "      <td>1</td>\n",
              "      <td>4</td>\n",
              "      <td>2015-07-30</td>\n",
              "      <td>5020</td>\n",
              "      <td>546</td>\n",
              "      <td>1</td>\n",
              "      <td>1</td>\n",
              "      <td>0</td>\n",
              "      <td>1</td>\n",
              "      <td>c</td>\n",
              "      <td>a</td>\n",
              "      <td>1270.0</td>\n",
              "      <td>9.0</td>\n",
              "      <td>2008.0</td>\n",
              "      <td>0</td>\n",
              "      <td>NaN</td>\n",
              "      <td>NaN</td>\n",
              "      <td>NaN</td>\n",
              "    </tr>\n",
              "    <tr>\n",
              "      <th>2</th>\n",
              "      <td>1</td>\n",
              "      <td>3</td>\n",
              "      <td>2015-07-29</td>\n",
              "      <td>4782</td>\n",
              "      <td>523</td>\n",
              "      <td>1</td>\n",
              "      <td>1</td>\n",
              "      <td>0</td>\n",
              "      <td>1</td>\n",
              "      <td>c</td>\n",
              "      <td>a</td>\n",
              "      <td>1270.0</td>\n",
              "      <td>9.0</td>\n",
              "      <td>2008.0</td>\n",
              "      <td>0</td>\n",
              "      <td>NaN</td>\n",
              "      <td>NaN</td>\n",
              "      <td>NaN</td>\n",
              "    </tr>\n",
              "    <tr>\n",
              "      <th>3</th>\n",
              "      <td>1</td>\n",
              "      <td>2</td>\n",
              "      <td>2015-07-28</td>\n",
              "      <td>5011</td>\n",
              "      <td>560</td>\n",
              "      <td>1</td>\n",
              "      <td>1</td>\n",
              "      <td>0</td>\n",
              "      <td>1</td>\n",
              "      <td>c</td>\n",
              "      <td>a</td>\n",
              "      <td>1270.0</td>\n",
              "      <td>9.0</td>\n",
              "      <td>2008.0</td>\n",
              "      <td>0</td>\n",
              "      <td>NaN</td>\n",
              "      <td>NaN</td>\n",
              "      <td>NaN</td>\n",
              "    </tr>\n",
              "    <tr>\n",
              "      <th>4</th>\n",
              "      <td>1</td>\n",
              "      <td>1</td>\n",
              "      <td>2015-07-27</td>\n",
              "      <td>6102</td>\n",
              "      <td>612</td>\n",
              "      <td>1</td>\n",
              "      <td>1</td>\n",
              "      <td>0</td>\n",
              "      <td>1</td>\n",
              "      <td>c</td>\n",
              "      <td>a</td>\n",
              "      <td>1270.0</td>\n",
              "      <td>9.0</td>\n",
              "      <td>2008.0</td>\n",
              "      <td>0</td>\n",
              "      <td>NaN</td>\n",
              "      <td>NaN</td>\n",
              "      <td>NaN</td>\n",
              "    </tr>\n",
              "  </tbody>\n",
              "</table>\n",
              "</div>\n",
              "      <button class=\"colab-df-convert\" onclick=\"convertToInteractive('df-0711e95d-4f43-4454-8e4f-284850c23cdd')\"\n",
              "              title=\"Convert this dataframe to an interactive table.\"\n",
              "              style=\"display:none;\">\n",
              "        \n",
              "  <svg xmlns=\"http://www.w3.org/2000/svg\" height=\"24px\"viewBox=\"0 0 24 24\"\n",
              "       width=\"24px\">\n",
              "    <path d=\"M0 0h24v24H0V0z\" fill=\"none\"/>\n",
              "    <path d=\"M18.56 5.44l.94 2.06.94-2.06 2.06-.94-2.06-.94-.94-2.06-.94 2.06-2.06.94zm-11 1L8.5 8.5l.94-2.06 2.06-.94-2.06-.94L8.5 2.5l-.94 2.06-2.06.94zm10 10l.94 2.06.94-2.06 2.06-.94-2.06-.94-.94-2.06-.94 2.06-2.06.94z\"/><path d=\"M17.41 7.96l-1.37-1.37c-.4-.4-.92-.59-1.43-.59-.52 0-1.04.2-1.43.59L10.3 9.45l-7.72 7.72c-.78.78-.78 2.05 0 2.83L4 21.41c.39.39.9.59 1.41.59.51 0 1.02-.2 1.41-.59l7.78-7.78 2.81-2.81c.8-.78.8-2.07 0-2.86zM5.41 20L4 18.59l7.72-7.72 1.47 1.35L5.41 20z\"/>\n",
              "  </svg>\n",
              "      </button>\n",
              "      \n",
              "  <style>\n",
              "    .colab-df-container {\n",
              "      display:flex;\n",
              "      flex-wrap:wrap;\n",
              "      gap: 12px;\n",
              "    }\n",
              "\n",
              "    .colab-df-convert {\n",
              "      background-color: #E8F0FE;\n",
              "      border: none;\n",
              "      border-radius: 50%;\n",
              "      cursor: pointer;\n",
              "      display: none;\n",
              "      fill: #1967D2;\n",
              "      height: 32px;\n",
              "      padding: 0 0 0 0;\n",
              "      width: 32px;\n",
              "    }\n",
              "\n",
              "    .colab-df-convert:hover {\n",
              "      background-color: #E2EBFA;\n",
              "      box-shadow: 0px 1px 2px rgba(60, 64, 67, 0.3), 0px 1px 3px 1px rgba(60, 64, 67, 0.15);\n",
              "      fill: #174EA6;\n",
              "    }\n",
              "\n",
              "    [theme=dark] .colab-df-convert {\n",
              "      background-color: #3B4455;\n",
              "      fill: #D2E3FC;\n",
              "    }\n",
              "\n",
              "    [theme=dark] .colab-df-convert:hover {\n",
              "      background-color: #434B5C;\n",
              "      box-shadow: 0px 1px 3px 1px rgba(0, 0, 0, 0.15);\n",
              "      filter: drop-shadow(0px 1px 2px rgba(0, 0, 0, 0.3));\n",
              "      fill: #FFFFFF;\n",
              "    }\n",
              "  </style>\n",
              "\n",
              "      <script>\n",
              "        const buttonEl =\n",
              "          document.querySelector('#df-0711e95d-4f43-4454-8e4f-284850c23cdd button.colab-df-convert');\n",
              "        buttonEl.style.display =\n",
              "          google.colab.kernel.accessAllowed ? 'block' : 'none';\n",
              "\n",
              "        async function convertToInteractive(key) {\n",
              "          const element = document.querySelector('#df-0711e95d-4f43-4454-8e4f-284850c23cdd');\n",
              "          const dataTable =\n",
              "            await google.colab.kernel.invokeFunction('convertToInteractive',\n",
              "                                                     [key], {});\n",
              "          if (!dataTable) return;\n",
              "\n",
              "          const docLinkHtml = 'Like what you see? Visit the ' +\n",
              "            '<a target=\"_blank\" href=https://colab.research.google.com/notebooks/data_table.ipynb>data table notebook</a>'\n",
              "            + ' to learn more about interactive tables.';\n",
              "          element.innerHTML = '';\n",
              "          dataTable['output_type'] = 'display_data';\n",
              "          await google.colab.output.renderOutput(dataTable, element);\n",
              "          const docLink = document.createElement('div');\n",
              "          docLink.innerHTML = docLinkHtml;\n",
              "          element.appendChild(docLink);\n",
              "        }\n",
              "      </script>\n",
              "    </div>\n",
              "  </div>\n",
              "  "
            ]
          },
          "metadata": {},
          "execution_count": 6
        }
      ]
    },
    {
      "cell_type": "markdown",
      "source": [
        "# Data exploration"
      ],
      "metadata": {
        "id": "UnYiwUsoJyDj"
      },
      "id": "UnYiwUsoJyDj"
    },
    {
      "cell_type": "code",
      "execution_count": null,
      "id": "36c72998",
      "metadata": {
        "id": "36c72998",
        "colab": {
          "base_uri": "https://localhost:8080/"
        },
        "outputId": "5002dc43-72f2-4516-85bf-d5ee2e1ed4dd"
      },
      "outputs": [
        {
          "output_type": "execute_result",
          "data": {
            "text/plain": [
              "   Store        Date  Sales  Customers  Open  Promo  SchoolHoliday  \\\n",
              "0      1  2015-07-31   5263        555     1      1              1   \n",
              "1      1  2015-07-30   5020        546     1      1              1   \n",
              "2      1  2015-07-29   4782        523     1      1              1   \n",
              "3      1  2015-07-28   5011        560     1      1              1   \n",
              "4      1  2015-07-27   6102        612     1      1              1   \n",
              "\n",
              "   CompetitionDistance  Promo2  Promo2SinceWeek  ...  DayOfWeek_1  \\\n",
              "0               1270.0       0              0.0  ...            0   \n",
              "1               1270.0       0              0.0  ...            0   \n",
              "2               1270.0       0              0.0  ...            0   \n",
              "3               1270.0       0              0.0  ...            0   \n",
              "4               1270.0       0              0.0  ...            1   \n",
              "\n",
              "   DayOfWeek_2  DayOfWeek_3  DayOfWeek_4  DayOfWeek_5  DayOfWeek_6  \\\n",
              "0            0            0            0            1            0   \n",
              "1            0            0            1            0            0   \n",
              "2            0            1            0            0            0   \n",
              "3            1            0            0            0            0   \n",
              "4            0            0            0            0            0   \n",
              "\n",
              "   DayOfWeek_7  Year  Month  Day  \n",
              "0            0  2015     07   31  \n",
              "1            0  2015     07   30  \n",
              "2            0  2015     07   29  \n",
              "3            0  2015     07   28  \n",
              "4            0  2015     07   27  \n",
              "\n",
              "[5 rows x 32 columns]"
            ],
            "text/html": [
              "\n",
              "  <div id=\"df-8f270b76-4fc8-4b13-994d-460b98fea483\">\n",
              "    <div class=\"colab-df-container\">\n",
              "      <div>\n",
              "<style scoped>\n",
              "    .dataframe tbody tr th:only-of-type {\n",
              "        vertical-align: middle;\n",
              "    }\n",
              "\n",
              "    .dataframe tbody tr th {\n",
              "        vertical-align: top;\n",
              "    }\n",
              "\n",
              "    .dataframe thead th {\n",
              "        text-align: right;\n",
              "    }\n",
              "</style>\n",
              "<table border=\"1\" class=\"dataframe\">\n",
              "  <thead>\n",
              "    <tr style=\"text-align: right;\">\n",
              "      <th></th>\n",
              "      <th>Store</th>\n",
              "      <th>Date</th>\n",
              "      <th>Sales</th>\n",
              "      <th>Customers</th>\n",
              "      <th>Open</th>\n",
              "      <th>Promo</th>\n",
              "      <th>SchoolHoliday</th>\n",
              "      <th>CompetitionDistance</th>\n",
              "      <th>Promo2</th>\n",
              "      <th>Promo2SinceWeek</th>\n",
              "      <th>...</th>\n",
              "      <th>DayOfWeek_1</th>\n",
              "      <th>DayOfWeek_2</th>\n",
              "      <th>DayOfWeek_3</th>\n",
              "      <th>DayOfWeek_4</th>\n",
              "      <th>DayOfWeek_5</th>\n",
              "      <th>DayOfWeek_6</th>\n",
              "      <th>DayOfWeek_7</th>\n",
              "      <th>Year</th>\n",
              "      <th>Month</th>\n",
              "      <th>Day</th>\n",
              "    </tr>\n",
              "  </thead>\n",
              "  <tbody>\n",
              "    <tr>\n",
              "      <th>0</th>\n",
              "      <td>1</td>\n",
              "      <td>2015-07-31</td>\n",
              "      <td>5263</td>\n",
              "      <td>555</td>\n",
              "      <td>1</td>\n",
              "      <td>1</td>\n",
              "      <td>1</td>\n",
              "      <td>1270.0</td>\n",
              "      <td>0</td>\n",
              "      <td>0.0</td>\n",
              "      <td>...</td>\n",
              "      <td>0</td>\n",
              "      <td>0</td>\n",
              "      <td>0</td>\n",
              "      <td>0</td>\n",
              "      <td>1</td>\n",
              "      <td>0</td>\n",
              "      <td>0</td>\n",
              "      <td>2015</td>\n",
              "      <td>07</td>\n",
              "      <td>31</td>\n",
              "    </tr>\n",
              "    <tr>\n",
              "      <th>1</th>\n",
              "      <td>1</td>\n",
              "      <td>2015-07-30</td>\n",
              "      <td>5020</td>\n",
              "      <td>546</td>\n",
              "      <td>1</td>\n",
              "      <td>1</td>\n",
              "      <td>1</td>\n",
              "      <td>1270.0</td>\n",
              "      <td>0</td>\n",
              "      <td>0.0</td>\n",
              "      <td>...</td>\n",
              "      <td>0</td>\n",
              "      <td>0</td>\n",
              "      <td>0</td>\n",
              "      <td>1</td>\n",
              "      <td>0</td>\n",
              "      <td>0</td>\n",
              "      <td>0</td>\n",
              "      <td>2015</td>\n",
              "      <td>07</td>\n",
              "      <td>30</td>\n",
              "    </tr>\n",
              "    <tr>\n",
              "      <th>2</th>\n",
              "      <td>1</td>\n",
              "      <td>2015-07-29</td>\n",
              "      <td>4782</td>\n",
              "      <td>523</td>\n",
              "      <td>1</td>\n",
              "      <td>1</td>\n",
              "      <td>1</td>\n",
              "      <td>1270.0</td>\n",
              "      <td>0</td>\n",
              "      <td>0.0</td>\n",
              "      <td>...</td>\n",
              "      <td>0</td>\n",
              "      <td>0</td>\n",
              "      <td>1</td>\n",
              "      <td>0</td>\n",
              "      <td>0</td>\n",
              "      <td>0</td>\n",
              "      <td>0</td>\n",
              "      <td>2015</td>\n",
              "      <td>07</td>\n",
              "      <td>29</td>\n",
              "    </tr>\n",
              "    <tr>\n",
              "      <th>3</th>\n",
              "      <td>1</td>\n",
              "      <td>2015-07-28</td>\n",
              "      <td>5011</td>\n",
              "      <td>560</td>\n",
              "      <td>1</td>\n",
              "      <td>1</td>\n",
              "      <td>1</td>\n",
              "      <td>1270.0</td>\n",
              "      <td>0</td>\n",
              "      <td>0.0</td>\n",
              "      <td>...</td>\n",
              "      <td>0</td>\n",
              "      <td>1</td>\n",
              "      <td>0</td>\n",
              "      <td>0</td>\n",
              "      <td>0</td>\n",
              "      <td>0</td>\n",
              "      <td>0</td>\n",
              "      <td>2015</td>\n",
              "      <td>07</td>\n",
              "      <td>28</td>\n",
              "    </tr>\n",
              "    <tr>\n",
              "      <th>4</th>\n",
              "      <td>1</td>\n",
              "      <td>2015-07-27</td>\n",
              "      <td>6102</td>\n",
              "      <td>612</td>\n",
              "      <td>1</td>\n",
              "      <td>1</td>\n",
              "      <td>1</td>\n",
              "      <td>1270.0</td>\n",
              "      <td>0</td>\n",
              "      <td>0.0</td>\n",
              "      <td>...</td>\n",
              "      <td>1</td>\n",
              "      <td>0</td>\n",
              "      <td>0</td>\n",
              "      <td>0</td>\n",
              "      <td>0</td>\n",
              "      <td>0</td>\n",
              "      <td>0</td>\n",
              "      <td>2015</td>\n",
              "      <td>07</td>\n",
              "      <td>27</td>\n",
              "    </tr>\n",
              "  </tbody>\n",
              "</table>\n",
              "<p>5 rows × 32 columns</p>\n",
              "</div>\n",
              "      <button class=\"colab-df-convert\" onclick=\"convertToInteractive('df-8f270b76-4fc8-4b13-994d-460b98fea483')\"\n",
              "              title=\"Convert this dataframe to an interactive table.\"\n",
              "              style=\"display:none;\">\n",
              "        \n",
              "  <svg xmlns=\"http://www.w3.org/2000/svg\" height=\"24px\"viewBox=\"0 0 24 24\"\n",
              "       width=\"24px\">\n",
              "    <path d=\"M0 0h24v24H0V0z\" fill=\"none\"/>\n",
              "    <path d=\"M18.56 5.44l.94 2.06.94-2.06 2.06-.94-2.06-.94-.94-2.06-.94 2.06-2.06.94zm-11 1L8.5 8.5l.94-2.06 2.06-.94-2.06-.94L8.5 2.5l-.94 2.06-2.06.94zm10 10l.94 2.06.94-2.06 2.06-.94-2.06-.94-.94-2.06-.94 2.06-2.06.94z\"/><path d=\"M17.41 7.96l-1.37-1.37c-.4-.4-.92-.59-1.43-.59-.52 0-1.04.2-1.43.59L10.3 9.45l-7.72 7.72c-.78.78-.78 2.05 0 2.83L4 21.41c.39.39.9.59 1.41.59.51 0 1.02-.2 1.41-.59l7.78-7.78 2.81-2.81c.8-.78.8-2.07 0-2.86zM5.41 20L4 18.59l7.72-7.72 1.47 1.35L5.41 20z\"/>\n",
              "  </svg>\n",
              "      </button>\n",
              "      \n",
              "  <style>\n",
              "    .colab-df-container {\n",
              "      display:flex;\n",
              "      flex-wrap:wrap;\n",
              "      gap: 12px;\n",
              "    }\n",
              "\n",
              "    .colab-df-convert {\n",
              "      background-color: #E8F0FE;\n",
              "      border: none;\n",
              "      border-radius: 50%;\n",
              "      cursor: pointer;\n",
              "      display: none;\n",
              "      fill: #1967D2;\n",
              "      height: 32px;\n",
              "      padding: 0 0 0 0;\n",
              "      width: 32px;\n",
              "    }\n",
              "\n",
              "    .colab-df-convert:hover {\n",
              "      background-color: #E2EBFA;\n",
              "      box-shadow: 0px 1px 2px rgba(60, 64, 67, 0.3), 0px 1px 3px 1px rgba(60, 64, 67, 0.15);\n",
              "      fill: #174EA6;\n",
              "    }\n",
              "\n",
              "    [theme=dark] .colab-df-convert {\n",
              "      background-color: #3B4455;\n",
              "      fill: #D2E3FC;\n",
              "    }\n",
              "\n",
              "    [theme=dark] .colab-df-convert:hover {\n",
              "      background-color: #434B5C;\n",
              "      box-shadow: 0px 1px 3px 1px rgba(0, 0, 0, 0.15);\n",
              "      filter: drop-shadow(0px 1px 2px rgba(0, 0, 0, 0.3));\n",
              "      fill: #FFFFFF;\n",
              "    }\n",
              "  </style>\n",
              "\n",
              "      <script>\n",
              "        const buttonEl =\n",
              "          document.querySelector('#df-8f270b76-4fc8-4b13-994d-460b98fea483 button.colab-df-convert');\n",
              "        buttonEl.style.display =\n",
              "          google.colab.kernel.accessAllowed ? 'block' : 'none';\n",
              "\n",
              "        async function convertToInteractive(key) {\n",
              "          const element = document.querySelector('#df-8f270b76-4fc8-4b13-994d-460b98fea483');\n",
              "          const dataTable =\n",
              "            await google.colab.kernel.invokeFunction('convertToInteractive',\n",
              "                                                     [key], {});\n",
              "          if (!dataTable) return;\n",
              "\n",
              "          const docLinkHtml = 'Like what you see? Visit the ' +\n",
              "            '<a target=\"_blank\" href=https://colab.research.google.com/notebooks/data_table.ipynb>data table notebook</a>'\n",
              "            + ' to learn more about interactive tables.';\n",
              "          element.innerHTML = '';\n",
              "          dataTable['output_type'] = 'display_data';\n",
              "          await google.colab.output.renderOutput(dataTable, element);\n",
              "          const docLink = document.createElement('div');\n",
              "          docLink.innerHTML = docLinkHtml;\n",
              "          element.appendChild(docLink);\n",
              "        }\n",
              "      </script>\n",
              "    </div>\n",
              "  </div>\n",
              "  "
            ]
          },
          "metadata": {},
          "execution_count": 29
        }
      ],
      "source": [
        "data.head()"
      ]
    },
    {
      "cell_type": "code",
      "source": [
        "data['Open'].unique()"
      ],
      "metadata": {
        "id": "FpiSKzAenlF4",
        "colab": {
          "base_uri": "https://localhost:8080/"
        },
        "outputId": "6b72745d-2122-42d6-9766-9ad87482ed38"
      },
      "id": "FpiSKzAenlF4",
      "execution_count": null,
      "outputs": [
        {
          "output_type": "execute_result",
          "data": {
            "text/plain": [
              "array([1, 0])"
            ]
          },
          "metadata": {},
          "execution_count": 30
        }
      ]
    },
    {
      "cell_type": "code",
      "source": [
        "len(data[data.Sales == 0])"
      ],
      "metadata": {
        "id": "l1vzGD3wnYNf",
        "colab": {
          "base_uri": "https://localhost:8080/"
        },
        "outputId": "1e5ea7d7-49bd-4520-e54f-6d8b154f0024"
      },
      "id": "l1vzGD3wnYNf",
      "execution_count": null,
      "outputs": [
        {
          "output_type": "execute_result",
          "data": {
            "text/plain": [
              "172871"
            ]
          },
          "metadata": {},
          "execution_count": 31
        }
      ]
    },
    {
      "cell_type": "code",
      "source": [
        "len(data[data.Open == 0])"
      ],
      "metadata": {
        "id": "HbgT1XXXndC-",
        "colab": {
          "base_uri": "https://localhost:8080/"
        },
        "outputId": "5c703bea-d923-49bb-9da7-65ffd15f20b4"
      },
      "id": "HbgT1XXXndC-",
      "execution_count": null,
      "outputs": [
        {
          "output_type": "execute_result",
          "data": {
            "text/plain": [
              "172817"
            ]
          },
          "metadata": {},
          "execution_count": 32
        }
      ]
    },
    {
      "cell_type": "code",
      "execution_count": null,
      "id": "c43be17a",
      "metadata": {
        "id": "c43be17a",
        "colab": {
          "base_uri": "https://localhost:8080/"
        },
        "outputId": "c160b52b-77df-4e13-c366-bc37b9f6752f"
      },
      "outputs": [
        {
          "output_type": "stream",
          "name": "stdout",
          "text": [
            "<class 'pandas.core.frame.DataFrame'>\n",
            "Int64Index: 1017209 entries, 0 to 1017208\n",
            "Data columns (total 32 columns):\n",
            " #   Column               Non-Null Count    Dtype  \n",
            "---  ------               --------------    -----  \n",
            " 0   Store                1017209 non-null  int64  \n",
            " 1   Date                 1017209 non-null  object \n",
            " 2   Sales                1017209 non-null  int64  \n",
            " 3   Customers            1017209 non-null  int64  \n",
            " 4   Open                 1017209 non-null  int64  \n",
            " 5   Promo                1017209 non-null  int64  \n",
            " 6   SchoolHoliday        1017209 non-null  int64  \n",
            " 7   CompetitionDistance  1017209 non-null  float64\n",
            " 8   Promo2               1017209 non-null  int64  \n",
            " 9   Promo2SinceWeek      1017209 non-null  float64\n",
            " 10  Promo2SinceYear      1017209 non-null  float64\n",
            " 11  StateHoliday_0       1017209 non-null  uint8  \n",
            " 12  StateHoliday_a       1017209 non-null  uint8  \n",
            " 13  StateHoliday_b       1017209 non-null  uint8  \n",
            " 14  StateHoliday_c       1017209 non-null  uint8  \n",
            " 15  StoreType_a          1017209 non-null  uint8  \n",
            " 16  StoreType_b          1017209 non-null  uint8  \n",
            " 17  StoreType_c          1017209 non-null  uint8  \n",
            " 18  StoreType_d          1017209 non-null  uint8  \n",
            " 19  Assortment_a         1017209 non-null  uint8  \n",
            " 20  Assortment_b         1017209 non-null  uint8  \n",
            " 21  Assortment_c         1017209 non-null  uint8  \n",
            " 22  DayOfWeek_1          1017209 non-null  uint8  \n",
            " 23  DayOfWeek_2          1017209 non-null  uint8  \n",
            " 24  DayOfWeek_3          1017209 non-null  uint8  \n",
            " 25  DayOfWeek_4          1017209 non-null  uint8  \n",
            " 26  DayOfWeek_5          1017209 non-null  uint8  \n",
            " 27  DayOfWeek_6          1017209 non-null  uint8  \n",
            " 28  DayOfWeek_7          1017209 non-null  uint8  \n",
            " 29  Year                 1017209 non-null  object \n",
            " 30  Month                1017209 non-null  object \n",
            " 31  Day                  1017209 non-null  object \n",
            "dtypes: float64(3), int64(7), object(4), uint8(18)\n",
            "memory usage: 133.9+ MB\n"
          ]
        }
      ],
      "source": [
        "data.info()"
      ]
    },
    {
      "cell_type": "code",
      "execution_count": null,
      "id": "e876b67e",
      "metadata": {
        "id": "e876b67e",
        "colab": {
          "base_uri": "https://localhost:8080/"
        },
        "outputId": "860885af-3d77-4e7f-c735-50cf14531071"
      },
      "outputs": [
        {
          "output_type": "stream",
          "name": "stdout",
          "text": [
            "Number of rows 1017209 , variables:  32\n",
            "Number of stores 1115\n"
          ]
        }
      ],
      "source": [
        "print(\"Number of rows\", data.shape[0], \", variables: \", data.shape[1])\n",
        "print(\"Number of stores\", len(data['Store'].unique()))"
      ]
    },
    {
      "cell_type": "code",
      "source": [
        "import matplotlib.pyplot as plt\n",
        "import seaborn as sns\n",
        "plt.figure(figsize=(17,10))\n",
        "\n",
        "sns.heatmap(store.isna().transpose(),\n",
        "            cmap=\"YlGnBu\",\n",
        "            cbar_kws={'label': 'Missing Data'})\n",
        "plt.show()"
      ],
      "metadata": {
        "id": "-8NMgKb4MIld",
        "colab": {
          "base_uri": "https://localhost:8080/"
        },
        "outputId": "83e769bc-9935-459a-e860-1910c15c4d35"
      },
      "id": "-8NMgKb4MIld",
      "execution_count": null,
      "outputs": [
        {
          "output_type": "display_data",
          "data": {
            "text/plain": [
              "<Figure size 1224x720 with 2 Axes>"
            ],
            "image/png": "[encoded data removed]"
          },
          "metadata": {
            "needs_background": "light"
          }
        }
      ]
    },
    {
      "cell_type": "code",
      "source": [
        "import matplotlib.pyplot as plt\n",
        "import seaborn as sns\n",
        "plt.figure(figsize=(17,10))\n",
        "df = store[store.Promo2 != 0]\n",
        "sns.heatmap(df.isna().transpose(),\n",
        "            cmap=\"YlGnBu\",\n",
        "            cbar_kws={'label': 'Missing Data'})\n",
        "plt.show()\n"
      ],
      "metadata": {
        "id": "wXqxj1sAMFKE",
        "colab": {
          "base_uri": "https://localhost:8080/"
        },
        "outputId": "cddcd2ed-1fc7-4e3c-a06a-94fd82597aaf"
      },
      "id": "wXqxj1sAMFKE",
      "execution_count": null,
      "outputs": [
        {
          "output_type": "display_data",
          "data": {
            "text/plain": [
              "<Figure size 1224x720 with 2 Axes>"
            ],
            "image/png": "[encoded data removed]"
          },
          "metadata": {
            "needs_background": "light"
          }
        }
      ]
    },
    {
      "cell_type": "code",
      "source": [
        "#looking at a the percentage of stores open\n",
        "d_close = data [data.Sales == 0]\n",
        "d_open = data[data.Sales !=0]\n",
        "print(f\"{d_close.shape[0]/data.shape[0]*100:.2f}% of store are close,  {d_open.shape[0]/data.shape[0]*100:.2F}% of stores are open\")\n",
        "                                                                        \n",
        "\n"
      ],
      "metadata": {
        "id": "8xJ-52bunVa1",
        "colab": {
          "base_uri": "https://localhost:8080/"
        },
        "outputId": "1afc162a-b057-42b8-937b-68af0792ea56"
      },
      "execution_count": null,
      "outputs": [
        {
          "output_type": "stream",
          "name": "stdout",
          "text": [
            "16.99% of store are close,  83.01% of stores are open\n"
          ]
        }
      ],
      "id": "8xJ-52bunVa1"
    },
    {
      "cell_type": "code",
      "source": [
        "#looking at out target vriable (sales)\n",
        "plt.title(\"Distribution of sales\")\n",
        "plt.xlabel(\"Sales\")\n",
        "graph = sns.kdeplot(x=\"Sales\", data= d_open)"
      ],
      "metadata": {
        "id": "2t906Sxav1P2",
        "colab": {
          "base_uri": "https://localhost:8080/"
        },
        "outputId": "84d59668-746b-42d2-f986-a804a21de607"
      },
      "id": "2t906Sxav1P2",
      "execution_count": null,
      "outputs": [
        {
          "output_type": "display_data",
          "data": {
            "text/plain": [
              "<Figure size 432x288 with 1 Axes>"
            ],
            "image/png": "[encoded data removed]"
          },
          "metadata": {
            "needs_background": "light"
          }
        }
      ]
    },
    {
      "cell_type": "code",
      "source": [
        "plt.title(\"Distribution os sales\")\n",
        "plt.xlabel(\"Sales\")\n",
        "graph = sns.histplot(x = \"Sales\", data=d_open, kde=True, hue='Promo') "
      ],
      "metadata": {
        "id": "fl18ZQ1eqoNX",
        "colab": {
          "base_uri": "https://localhost:8080/"
        },
        "outputId": "67e45fa9-55a4-4242-a11e-7ec59bc8de74"
      },
      "execution_count": null,
      "outputs": [
        {
          "output_type": "display_data",
          "data": {
            "text/plain": [
              "<Figure size 432x288 with 1 Axes>"
            ],
            "image/png": "[encoded data removed]"
          },
          "metadata": {
            "needs_background": "light"
          }
        }
      ],
      "id": "fl18ZQ1eqoNX"
    },
    {
      "cell_type": "code",
      "source": [
        "data.hist(figsize = (20, 15))\n",
        "plt.show()"
      ],
      "metadata": {
        "id": "VvBYysTuRlvc",
        "colab": {
          "base_uri": "https://localhost:8080/"
        },
        "outputId": "611f4c90-83cb-4eef-ad64-3c7dc5738864"
      },
      "id": "VvBYysTuRlvc",
      "execution_count": null,
      "outputs": [
        {
          "output_type": "display_data",
          "data": {
            "text/plain": [
              "<Figure size 1440x1080 with 30 Axes>"
            ],
            "image/png": "[encoded data removed]"
          },
          "metadata": {
            "needs_background": "light"
          }
        }
      ]
    },
    {
      "cell_type": "markdown",
      "source": [
        "# Data cleaning"
      ],
      "metadata": {
        "id": "uxEW-MrHKIB8"
      },
      "id": "uxEW-MrHKIB8"
    },
    {
      "cell_type": "code",
      "source": [
        "for col in data.columns:    \n",
        "  print(col, data[col].isna().sum())"
      ],
      "metadata": {
        "id": "8Yf-MXcEhAnu",
        "colab": {
          "base_uri": "https://localhost:8080/"
        },
        "outputId": "c8f5910b-77e9-49a1-ab92-a54034717410"
      },
      "id": "8Yf-MXcEhAnu",
      "execution_count": null,
      "outputs": [
        {
          "output_type": "stream",
          "name": "stdout",
          "text": [
            "Store 0\n",
            "DayOfWeek 0\n",
            "Date 0\n",
            "Sales 0\n",
            "Customers 0\n",
            "Open 0\n",
            "Promo 0\n",
            "StateHoliday 0\n",
            "SchoolHoliday 0\n",
            "StoreType 0\n",
            "Assortment 0\n",
            "CompetitionDistance 2642\n",
            "CompetitionOpenSinceMonth 323348\n",
            "CompetitionOpenSinceYear 323348\n",
            "Promo2 0\n",
            "Promo2SinceWeek 508031\n",
            "Promo2SinceYear 508031\n",
            "PromoInterval 508031\n"
          ]
        }
      ]
    },
    {
      "cell_type": "code",
      "execution_count": null,
      "id": "ff88e42f",
      "metadata": {
        "id": "ff88e42f",
        "colab": {
          "base_uri": "https://localhost:8080/"
        },
        "outputId": "e0d34c7c-aaa0-4f8a-9224-922b51229a56"
      },
      "outputs": [
        {
          "output_type": "stream",
          "name": "stdout",
          "text": [
            "Values of StateHoliday  ['0' 'a' 'b' 'c' 0]\n",
            "Replaced values of StateHoliday ['0' 'a' 'b' 'c']\n"
          ]
        }
      ],
      "source": [
        "print(\"Values of StateHoliday \",data['StateHoliday'].unique())\n",
        "data['StateHoliday'] = data['StateHoliday'].replace([0, '0'], '0')\n",
        "print(\"Replaced values of StateHoliday\", data['StateHoliday'].unique())"
      ]
    },
    {
      "cell_type": "code",
      "source": [
        "data = data.drop([\"CompetitionOpenSinceMonth\", \"CompetitionOpenSinceYear\", 'PromoInterval'], axis =1)"
      ],
      "metadata": {
        "id": "7T8gJIHHhotx"
      },
      "id": "7T8gJIHHhotx",
      "execution_count": null,
      "outputs": []
    },
    {
      "cell_type": "code",
      "source": [
        "data[\"CompetitionDistance\"].fillna(value=data[\"CompetitionDistance\"].mean(), inplace=True)\n",
        "data[[\"Promo2SinceWeek\", \"Promo2SinceYear\"]] = data[[\"Promo2SinceWeek\", \"Promo2SinceYear\"]].fillna(0)"
      ],
      "metadata": {
        "id": "AUdQEPZ4UNzr"
      },
      "id": "AUdQEPZ4UNzr",
      "execution_count": null,
      "outputs": []
    },
    {
      "cell_type": "code",
      "execution_count": null,
      "id": "323c9887",
      "metadata": {
        "id": "323c9887"
      },
      "outputs": [],
      "source": [
        "#data['Date'] = pd.to_datetime(data['Date'], infer_datetime_format = True)"
      ]
    },
    {
      "cell_type": "code",
      "source": [
        "data.shape"
      ],
      "metadata": {
        "id": "SARJvTZui-Xd",
        "colab": {
          "base_uri": "https://localhost:8080/"
        },
        "outputId": "66058e16-cf17-426d-aa87-3f796395c270"
      },
      "id": "SARJvTZui-Xd",
      "execution_count": null,
      "outputs": [
        {
          "output_type": "execute_result",
          "data": {
            "text/plain": [
              "(1017209, 15)"
            ]
          },
          "metadata": {},
          "execution_count": 24
        }
      ]
    },
    {
      "cell_type": "code",
      "source": [
        "for col in data.columns:    \n",
        "  print(col, data[col].isna().sum())"
      ],
      "metadata": {
        "id": "9tbp2jAcVKiK",
        "colab": {
          "base_uri": "https://localhost:8080/"
        },
        "outputId": "d84c8b4d-dd48-44da-ab84-4e8bcd9cf44d"
      },
      "id": "9tbp2jAcVKiK",
      "execution_count": null,
      "outputs": [
        {
          "output_type": "stream",
          "name": "stdout",
          "text": [
            "Store 0\n",
            "DayOfWeek 0\n",
            "Date 0\n",
            "Sales 0\n",
            "Customers 0\n",
            "Open 0\n",
            "Promo 0\n",
            "StateHoliday 0\n",
            "SchoolHoliday 0\n",
            "StoreType 0\n",
            "Assortment 0\n",
            "CompetitionDistance 0\n",
            "Promo2 0\n",
            "Promo2SinceWeek 0\n",
            "Promo2SinceYear 0\n"
          ]
        }
      ]
    },
    {
      "cell_type": "markdown",
      "source": [
        "# Data transformation"
      ],
      "metadata": {
        "id": "dM6Ml-3EJbDc"
      },
      "id": "dM6Ml-3EJbDc"
    },
    {
      "cell_type": "code",
      "execution_count": null,
      "id": "a6aebcff",
      "metadata": {
        "id": "a6aebcff",
        "colab": {
          "base_uri": "https://localhost:8080/"
        },
        "outputId": "280fe01c-d7b3-4156-e4bb-a44451cf0c9a"
      },
      "outputs": [
        {
          "output_type": "execute_result",
          "data": {
            "text/plain": [
              "   Store        Date  Sales  Customers  Open  Promo  SchoolHoliday  \\\n",
              "0      1  2015-07-31   5263        555     1      1              1   \n",
              "1      1  2015-07-30   5020        546     1      1              1   \n",
              "2      1  2015-07-29   4782        523     1      1              1   \n",
              "3      1  2015-07-28   5011        560     1      1              1   \n",
              "4      1  2015-07-27   6102        612     1      1              1   \n",
              "\n",
              "   CompetitionDistance  Promo2  Promo2SinceWeek  ...  Assortment_a  \\\n",
              "0               1270.0       0              0.0  ...             1   \n",
              "1               1270.0       0              0.0  ...             1   \n",
              "2               1270.0       0              0.0  ...             1   \n",
              "3               1270.0       0              0.0  ...             1   \n",
              "4               1270.0       0              0.0  ...             1   \n",
              "\n",
              "   Assortment_b  Assortment_c  DayOfWeek_1  DayOfWeek_2  DayOfWeek_3  \\\n",
              "0             0             0            0            0            0   \n",
              "1             0             0            0            0            0   \n",
              "2             0             0            0            0            1   \n",
              "3             0             0            0            1            0   \n",
              "4             0             0            1            0            0   \n",
              "\n",
              "   DayOfWeek_4  DayOfWeek_5  DayOfWeek_6  DayOfWeek_7  \n",
              "0            0            1            0            0  \n",
              "1            1            0            0            0  \n",
              "2            0            0            0            0  \n",
              "3            0            0            0            0  \n",
              "4            0            0            0            0  \n",
              "\n",
              "[5 rows x 29 columns]"
            ],
            "text/html": [
              "\n",
              "  <div id=\"df-508f54e7-409f-434e-83ba-6159af95fcc6\">\n",
              "    <div class=\"colab-df-container\">\n",
              "      <div>\n",
              "<style scoped>\n",
              "    .dataframe tbody tr th:only-of-type {\n",
              "        vertical-align: middle;\n",
              "    }\n",
              "\n",
              "    .dataframe tbody tr th {\n",
              "        vertical-align: top;\n",
              "    }\n",
              "\n",
              "    .dataframe thead th {\n",
              "        text-align: right;\n",
              "    }\n",
              "</style>\n",
              "<table border=\"1\" class=\"dataframe\">\n",
              "  <thead>\n",
              "    <tr style=\"text-align: right;\">\n",
              "      <th></th>\n",
              "      <th>Store</th>\n",
              "      <th>Date</th>\n",
              "      <th>Sales</th>\n",
              "      <th>Customers</th>\n",
              "      <th>Open</th>\n",
              "      <th>Promo</th>\n",
              "      <th>SchoolHoliday</th>\n",
              "      <th>CompetitionDistance</th>\n",
              "      <th>Promo2</th>\n",
              "      <th>Promo2SinceWeek</th>\n",
              "      <th>...</th>\n",
              "      <th>Assortment_a</th>\n",
              "      <th>Assortment_b</th>\n",
              "      <th>Assortment_c</th>\n",
              "      <th>DayOfWeek_1</th>\n",
              "      <th>DayOfWeek_2</th>\n",
              "      <th>DayOfWeek_3</th>\n",
              "      <th>DayOfWeek_4</th>\n",
              "      <th>DayOfWeek_5</th>\n",
              "      <th>DayOfWeek_6</th>\n",
              "      <th>DayOfWeek_7</th>\n",
              "    </tr>\n",
              "  </thead>\n",
              "  <tbody>\n",
              "    <tr>\n",
              "      <th>0</th>\n",
              "      <td>1</td>\n",
              "      <td>2015-07-31</td>\n",
              "      <td>5263</td>\n",
              "      <td>555</td>\n",
              "      <td>1</td>\n",
              "      <td>1</td>\n",
              "      <td>1</td>\n",
              "      <td>1270.0</td>\n",
              "      <td>0</td>\n",
              "      <td>0.0</td>\n",
              "      <td>...</td>\n",
              "      <td>1</td>\n",
              "      <td>0</td>\n",
              "      <td>0</td>\n",
              "      <td>0</td>\n",
              "      <td>0</td>\n",
              "      <td>0</td>\n",
              "      <td>0</td>\n",
              "      <td>1</td>\n",
              "      <td>0</td>\n",
              "      <td>0</td>\n",
              "    </tr>\n",
              "    <tr>\n",
              "      <th>1</th>\n",
              "      <td>1</td>\n",
              "      <td>2015-07-30</td>\n",
              "      <td>5020</td>\n",
              "      <td>546</td>\n",
              "      <td>1</td>\n",
              "      <td>1</td>\n",
              "      <td>1</td>\n",
              "      <td>1270.0</td>\n",
              "      <td>0</td>\n",
              "      <td>0.0</td>\n",
              "      <td>...</td>\n",
              "      <td>1</td>\n",
              "      <td>0</td>\n",
              "      <td>0</td>\n",
              "      <td>0</td>\n",
              "      <td>0</td>\n",
              "      <td>0</td>\n",
              "      <td>1</td>\n",
              "      <td>0</td>\n",
              "      <td>0</td>\n",
              "      <td>0</td>\n",
              "    </tr>\n",
              "    <tr>\n",
              "      <th>2</th>\n",
              "      <td>1</td>\n",
              "      <td>2015-07-29</td>\n",
              "      <td>4782</td>\n",
              "      <td>523</td>\n",
              "      <td>1</td>\n",
              "      <td>1</td>\n",
              "      <td>1</td>\n",
              "      <td>1270.0</td>\n",
              "      <td>0</td>\n",
              "      <td>0.0</td>\n",
              "      <td>...</td>\n",
              "      <td>1</td>\n",
              "      <td>0</td>\n",
              "      <td>0</td>\n",
              "      <td>0</td>\n",
              "      <td>0</td>\n",
              "      <td>1</td>\n",
              "      <td>0</td>\n",
              "      <td>0</td>\n",
              "      <td>0</td>\n",
              "      <td>0</td>\n",
              "    </tr>\n",
              "    <tr>\n",
              "      <th>3</th>\n",
              "      <td>1</td>\n",
              "      <td>2015-07-28</td>\n",
              "      <td>5011</td>\n",
              "      <td>560</td>\n",
              "      <td>1</td>\n",
              "      <td>1</td>\n",
              "      <td>1</td>\n",
              "      <td>1270.0</td>\n",
              "      <td>0</td>\n",
              "      <td>0.0</td>\n",
              "      <td>...</td>\n",
              "      <td>1</td>\n",
              "      <td>0</td>\n",
              "      <td>0</td>\n",
              "      <td>0</td>\n",
              "      <td>1</td>\n",
              "      <td>0</td>\n",
              "      <td>0</td>\n",
              "      <td>0</td>\n",
              "      <td>0</td>\n",
              "      <td>0</td>\n",
              "    </tr>\n",
              "    <tr>\n",
              "      <th>4</th>\n",
              "      <td>1</td>\n",
              "      <td>2015-07-27</td>\n",
              "      <td>6102</td>\n",
              "      <td>612</td>\n",
              "      <td>1</td>\n",
              "      <td>1</td>\n",
              "      <td>1</td>\n",
              "      <td>1270.0</td>\n",
              "      <td>0</td>\n",
              "      <td>0.0</td>\n",
              "      <td>...</td>\n",
              "      <td>1</td>\n",
              "      <td>0</td>\n",
              "      <td>0</td>\n",
              "      <td>1</td>\n",
              "      <td>0</td>\n",
              "      <td>0</td>\n",
              "      <td>0</td>\n",
              "      <td>0</td>\n",
              "      <td>0</td>\n",
              "      <td>0</td>\n",
              "    </tr>\n",
              "  </tbody>\n",
              "</table>\n",
              "<p>5 rows × 29 columns</p>\n",
              "</div>\n",
              "      <button class=\"colab-df-convert\" onclick=\"convertToInteractive('df-508f54e7-409f-434e-83ba-6159af95fcc6')\"\n",
              "              title=\"Convert this dataframe to an interactive table.\"\n",
              "              style=\"display:none;\">\n",
              "        \n",
              "  <svg xmlns=\"http://www.w3.org/2000/svg\" height=\"24px\"viewBox=\"0 0 24 24\"\n",
              "       width=\"24px\">\n",
              "    <path d=\"M0 0h24v24H0V0z\" fill=\"none\"/>\n",
              "    <path d=\"M18.56 5.44l.94 2.06.94-2.06 2.06-.94-2.06-.94-.94-2.06-.94 2.06-2.06.94zm-11 1L8.5 8.5l.94-2.06 2.06-.94-2.06-.94L8.5 2.5l-.94 2.06-2.06.94zm10 10l.94 2.06.94-2.06 2.06-.94-2.06-.94-.94-2.06-.94 2.06-2.06.94z\"/><path d=\"M17.41 7.96l-1.37-1.37c-.4-.4-.92-.59-1.43-.59-.52 0-1.04.2-1.43.59L10.3 9.45l-7.72 7.72c-.78.78-.78 2.05 0 2.83L4 21.41c.39.39.9.59 1.41.59.51 0 1.02-.2 1.41-.59l7.78-7.78 2.81-2.81c.8-.78.8-2.07 0-2.86zM5.41 20L4 18.59l7.72-7.72 1.47 1.35L5.41 20z\"/>\n",
              "  </svg>\n",
              "      </button>\n",
              "      \n",
              "  <style>\n",
              "    .colab-df-container {\n",
              "      display:flex;\n",
              "      flex-wrap:wrap;\n",
              "      gap: 12px;\n",
              "    }\n",
              "\n",
              "    .colab-df-convert {\n",
              "      background-color: #E8F0FE;\n",
              "      border: none;\n",
              "      border-radius: 50%;\n",
              "      cursor: pointer;\n",
              "      display: none;\n",
              "      fill: #1967D2;\n",
              "      height: 32px;\n",
              "      padding: 0 0 0 0;\n",
              "      width: 32px;\n",
              "    }\n",
              "\n",
              "    .colab-df-convert:hover {\n",
              "      background-color: #E2EBFA;\n",
              "      box-shadow: 0px 1px 2px rgba(60, 64, 67, 0.3), 0px 1px 3px 1px rgba(60, 64, 67, 0.15);\n",
              "      fill: #174EA6;\n",
              "    }\n",
              "\n",
              "    [theme=dark] .colab-df-convert {\n",
              "      background-color: #3B4455;\n",
              "      fill: #D2E3FC;\n",
              "    }\n",
              "\n",
              "    [theme=dark] .colab-df-convert:hover {\n",
              "      background-color: #434B5C;\n",
              "      box-shadow: 0px 1px 3px 1px rgba(0, 0, 0, 0.15);\n",
              "      filter: drop-shadow(0px 1px 2px rgba(0, 0, 0, 0.3));\n",
              "      fill: #FFFFFF;\n",
              "    }\n",
              "  </style>\n",
              "\n",
              "      <script>\n",
              "        const buttonEl =\n",
              "          document.querySelector('#df-508f54e7-409f-434e-83ba-6159af95fcc6 button.colab-df-convert');\n",
              "        buttonEl.style.display =\n",
              "          google.colab.kernel.accessAllowed ? 'block' : 'none';\n",
              "\n",
              "        async function convertToInteractive(key) {\n",
              "          const element = document.querySelector('#df-508f54e7-409f-434e-83ba-6159af95fcc6');\n",
              "          const dataTable =\n",
              "            await google.colab.kernel.invokeFunction('convertToInteractive',\n",
              "                                                     [key], {});\n",
              "          if (!dataTable) return;\n",
              "\n",
              "          const docLinkHtml = 'Like what you see? Visit the ' +\n",
              "            '<a target=\"_blank\" href=https://colab.research.google.com/notebooks/data_table.ipynb>data table notebook</a>'\n",
              "            + ' to learn more about interactive tables.';\n",
              "          element.innerHTML = '';\n",
              "          dataTable['output_type'] = 'display_data';\n",
              "          await google.colab.output.renderOutput(dataTable, element);\n",
              "          const docLink = document.createElement('div');\n",
              "          docLink.innerHTML = docLinkHtml;\n",
              "          element.appendChild(docLink);\n",
              "        }\n",
              "      </script>\n",
              "    </div>\n",
              "  </div>\n",
              "  "
            ]
          },
          "metadata": {},
          "execution_count": 26
        }
      ],
      "source": [
        "data = pd.get_dummies(data, columns= ['StateHoliday', 'StoreType', 'Assortment','DayOfWeek'])\n",
        "data.head()  "
      ]
    },
    {
      "cell_type": "code",
      "source": [
        "#feature extraction of date\n",
        "data[['Year', 'Month', 'Day']] = data['Date'].str.split(\"-\", expand = True)\n",
        "\n",
        "\n",
        "#fill in the null values"
      ],
      "metadata": {
        "id": "-jXKj2J5PrmQ"
      },
      "id": "-jXKj2J5PrmQ",
      "execution_count": null,
      "outputs": []
    },
    {
      "cell_type": "code",
      "source": [
        "  data.head()"
      ],
      "metadata": {
        "id": "zeQodGzDKFet",
        "colab": {
          "base_uri": "https://localhost:8080/"
        },
        "outputId": "359889e7-dc35-40a9-e8a6-76759fd43cfd"
      },
      "id": "zeQodGzDKFet",
      "execution_count": null,
      "outputs": [
        {
          "output_type": "execute_result",
          "data": {
            "text/plain": [
              "   Store        Date  Sales  Customers  Open  Promo  SchoolHoliday  \\\n",
              "0      1  2015-07-31   5263        555     1      1              1   \n",
              "1      1  2015-07-30   5020        546     1      1              1   \n",
              "2      1  2015-07-29   4782        523     1      1              1   \n",
              "3      1  2015-07-28   5011        560     1      1              1   \n",
              "4      1  2015-07-27   6102        612     1      1              1   \n",
              "\n",
              "   CompetitionDistance  Promo2  Promo2SinceWeek  ...  DayOfWeek_1  \\\n",
              "0               1270.0       0              0.0  ...            0   \n",
              "1               1270.0       0              0.0  ...            0   \n",
              "2               1270.0       0              0.0  ...            0   \n",
              "3               1270.0       0              0.0  ...            0   \n",
              "4               1270.0       0              0.0  ...            1   \n",
              "\n",
              "   DayOfWeek_2  DayOfWeek_3  DayOfWeek_4  DayOfWeek_5  DayOfWeek_6  \\\n",
              "0            0            0            0            1            0   \n",
              "1            0            0            1            0            0   \n",
              "2            0            1            0            0            0   \n",
              "3            1            0            0            0            0   \n",
              "4            0            0            0            0            0   \n",
              "\n",
              "   DayOfWeek_7  Year  Month  Day  \n",
              "0            0  2015     07   31  \n",
              "1            0  2015     07   30  \n",
              "2            0  2015     07   29  \n",
              "3            0  2015     07   28  \n",
              "4            0  2015     07   27  \n",
              "\n",
              "[5 rows x 32 columns]"
            ],
            "text/html": [
              "\n",
              "  <div id=\"df-16a4c3de-aad4-4b6c-a6ce-b1a9f6b6938f\">\n",
              "    <div class=\"colab-df-container\">\n",
              "      <div>\n",
              "<style scoped>\n",
              "    .dataframe tbody tr th:only-of-type {\n",
              "        vertical-align: middle;\n",
              "    }\n",
              "\n",
              "    .dataframe tbody tr th {\n",
              "        vertical-align: top;\n",
              "    }\n",
              "\n",
              "    .dataframe thead th {\n",
              "        text-align: right;\n",
              "    }\n",
              "</style>\n",
              "<table border=\"1\" class=\"dataframe\">\n",
              "  <thead>\n",
              "    <tr style=\"text-align: right;\">\n",
              "      <th></th>\n",
              "      <th>Store</th>\n",
              "      <th>Date</th>\n",
              "      <th>Sales</th>\n",
              "      <th>Customers</th>\n",
              "      <th>Open</th>\n",
              "      <th>Promo</th>\n",
              "      <th>SchoolHoliday</th>\n",
              "      <th>CompetitionDistance</th>\n",
              "      <th>Promo2</th>\n",
              "      <th>Promo2SinceWeek</th>\n",
              "      <th>...</th>\n",
              "      <th>DayOfWeek_1</th>\n",
              "      <th>DayOfWeek_2</th>\n",
              "      <th>DayOfWeek_3</th>\n",
              "      <th>DayOfWeek_4</th>\n",
              "      <th>DayOfWeek_5</th>\n",
              "      <th>DayOfWeek_6</th>\n",
              "      <th>DayOfWeek_7</th>\n",
              "      <th>Year</th>\n",
              "      <th>Month</th>\n",
              "      <th>Day</th>\n",
              "    </tr>\n",
              "  </thead>\n",
              "  <tbody>\n",
              "    <tr>\n",
              "      <th>0</th>\n",
              "      <td>1</td>\n",
              "      <td>2015-07-31</td>\n",
              "      <td>5263</td>\n",
              "      <td>555</td>\n",
              "      <td>1</td>\n",
              "      <td>1</td>\n",
              "      <td>1</td>\n",
              "      <td>1270.0</td>\n",
              "      <td>0</td>\n",
              "      <td>0.0</td>\n",
              "      <td>...</td>\n",
              "      <td>0</td>\n",
              "      <td>0</td>\n",
              "      <td>0</td>\n",
              "      <td>0</td>\n",
              "      <td>1</td>\n",
              "      <td>0</td>\n",
              "      <td>0</td>\n",
              "      <td>2015</td>\n",
              "      <td>07</td>\n",
              "      <td>31</td>\n",
              "    </tr>\n",
              "    <tr>\n",
              "      <th>1</th>\n",
              "      <td>1</td>\n",
              "      <td>2015-07-30</td>\n",
              "      <td>5020</td>\n",
              "      <td>546</td>\n",
              "      <td>1</td>\n",
              "      <td>1</td>\n",
              "      <td>1</td>\n",
              "      <td>1270.0</td>\n",
              "      <td>0</td>\n",
              "      <td>0.0</td>\n",
              "      <td>...</td>\n",
              "      <td>0</td>\n",
              "      <td>0</td>\n",
              "      <td>0</td>\n",
              "      <td>1</td>\n",
              "      <td>0</td>\n",
              "      <td>0</td>\n",
              "      <td>0</td>\n",
              "      <td>2015</td>\n",
              "      <td>07</td>\n",
              "      <td>30</td>\n",
              "    </tr>\n",
              "    <tr>\n",
              "      <th>2</th>\n",
              "      <td>1</td>\n",
              "      <td>2015-07-29</td>\n",
              "      <td>4782</td>\n",
              "      <td>523</td>\n",
              "      <td>1</td>\n",
              "      <td>1</td>\n",
              "      <td>1</td>\n",
              "      <td>1270.0</td>\n",
              "      <td>0</td>\n",
              "      <td>0.0</td>\n",
              "      <td>...</td>\n",
              "      <td>0</td>\n",
              "      <td>0</td>\n",
              "      <td>1</td>\n",
              "      <td>0</td>\n",
              "      <td>0</td>\n",
              "      <td>0</td>\n",
              "      <td>0</td>\n",
              "      <td>2015</td>\n",
              "      <td>07</td>\n",
              "      <td>29</td>\n",
              "    </tr>\n",
              "    <tr>\n",
              "      <th>3</th>\n",
              "      <td>1</td>\n",
              "      <td>2015-07-28</td>\n",
              "      <td>5011</td>\n",
              "      <td>560</td>\n",
              "      <td>1</td>\n",
              "      <td>1</td>\n",
              "      <td>1</td>\n",
              "      <td>1270.0</td>\n",
              "      <td>0</td>\n",
              "      <td>0.0</td>\n",
              "      <td>...</td>\n",
              "      <td>0</td>\n",
              "      <td>1</td>\n",
              "      <td>0</td>\n",
              "      <td>0</td>\n",
              "      <td>0</td>\n",
              "      <td>0</td>\n",
              "      <td>0</td>\n",
              "      <td>2015</td>\n",
              "      <td>07</td>\n",
              "      <td>28</td>\n",
              "    </tr>\n",
              "    <tr>\n",
              "      <th>4</th>\n",
              "      <td>1</td>\n",
              "      <td>2015-07-27</td>\n",
              "      <td>6102</td>\n",
              "      <td>612</td>\n",
              "      <td>1</td>\n",
              "      <td>1</td>\n",
              "      <td>1</td>\n",
              "      <td>1270.0</td>\n",
              "      <td>0</td>\n",
              "      <td>0.0</td>\n",
              "      <td>...</td>\n",
              "      <td>1</td>\n",
              "      <td>0</td>\n",
              "      <td>0</td>\n",
              "      <td>0</td>\n",
              "      <td>0</td>\n",
              "      <td>0</td>\n",
              "      <td>0</td>\n",
              "      <td>2015</td>\n",
              "      <td>07</td>\n",
              "      <td>27</td>\n",
              "    </tr>\n",
              "  </tbody>\n",
              "</table>\n",
              "<p>5 rows × 32 columns</p>\n",
              "</div>\n",
              "      <button class=\"colab-df-convert\" onclick=\"convertToInteractive('df-16a4c3de-aad4-4b6c-a6ce-b1a9f6b6938f')\"\n",
              "              title=\"Convert this dataframe to an interactive table.\"\n",
              "              style=\"display:none;\">\n",
              "        \n",
              "  <svg xmlns=\"http://www.w3.org/2000/svg\" height=\"24px\"viewBox=\"0 0 24 24\"\n",
              "       width=\"24px\">\n",
              "    <path d=\"M0 0h24v24H0V0z\" fill=\"none\"/>\n",
              "    <path d=\"M18.56 5.44l.94 2.06.94-2.06 2.06-.94-2.06-.94-.94-2.06-.94 2.06-2.06.94zm-11 1L8.5 8.5l.94-2.06 2.06-.94-2.06-.94L8.5 2.5l-.94 2.06-2.06.94zm10 10l.94 2.06.94-2.06 2.06-.94-2.06-.94-.94-2.06-.94 2.06-2.06.94z\"/><path d=\"M17.41 7.96l-1.37-1.37c-.4-.4-.92-.59-1.43-.59-.52 0-1.04.2-1.43.59L10.3 9.45l-7.72 7.72c-.78.78-.78 2.05 0 2.83L4 21.41c.39.39.9.59 1.41.59.51 0 1.02-.2 1.41-.59l7.78-7.78 2.81-2.81c.8-.78.8-2.07 0-2.86zM5.41 20L4 18.59l7.72-7.72 1.47 1.35L5.41 20z\"/>\n",
              "  </svg>\n",
              "      </button>\n",
              "      \n",
              "  <style>\n",
              "    .colab-df-container {\n",
              "      display:flex;\n",
              "      flex-wrap:wrap;\n",
              "      gap: 12px;\n",
              "    }\n",
              "\n",
              "    .colab-df-convert {\n",
              "      background-color: #E8F0FE;\n",
              "      border: none;\n",
              "      border-radius: 50%;\n",
              "      cursor: pointer;\n",
              "      display: none;\n",
              "      fill: #1967D2;\n",
              "      height: 32px;\n",
              "      padding: 0 0 0 0;\n",
              "      width: 32px;\n",
              "    }\n",
              "\n",
              "    .colab-df-convert:hover {\n",
              "      background-color: #E2EBFA;\n",
              "      box-shadow: 0px 1px 2px rgba(60, 64, 67, 0.3), 0px 1px 3px 1px rgba(60, 64, 67, 0.15);\n",
              "      fill: #174EA6;\n",
              "    }\n",
              "\n",
              "    [theme=dark] .colab-df-convert {\n",
              "      background-color: #3B4455;\n",
              "      fill: #D2E3FC;\n",
              "    }\n",
              "\n",
              "    [theme=dark] .colab-df-convert:hover {\n",
              "      background-color: #434B5C;\n",
              "      box-shadow: 0px 1px 3px 1px rgba(0, 0, 0, 0.15);\n",
              "      filter: drop-shadow(0px 1px 2px rgba(0, 0, 0, 0.3));\n",
              "      fill: #FFFFFF;\n",
              "    }\n",
              "  </style>\n",
              "\n",
              "      <script>\n",
              "        const buttonEl =\n",
              "          document.querySelector('#df-16a4c3de-aad4-4b6c-a6ce-b1a9f6b6938f button.colab-df-convert');\n",
              "        buttonEl.style.display =\n",
              "          google.colab.kernel.accessAllowed ? 'block' : 'none';\n",
              "\n",
              "        async function convertToInteractive(key) {\n",
              "          const element = document.querySelector('#df-16a4c3de-aad4-4b6c-a6ce-b1a9f6b6938f');\n",
              "          const dataTable =\n",
              "            await google.colab.kernel.invokeFunction('convertToInteractive',\n",
              "                                                     [key], {});\n",
              "          if (!dataTable) return;\n",
              "\n",
              "          const docLinkHtml = 'Like what you see? Visit the ' +\n",
              "            '<a target=\"_blank\" href=https://colab.research.google.com/notebooks/data_table.ipynb>data table notebook</a>'\n",
              "            + ' to learn more about interactive tables.';\n",
              "          element.innerHTML = '';\n",
              "          dataTable['output_type'] = 'display_data';\n",
              "          await google.colab.output.renderOutput(dataTable, element);\n",
              "          const docLink = document.createElement('div');\n",
              "          docLink.innerHTML = docLinkHtml;\n",
              "          element.appendChild(docLink);\n",
              "        }\n",
              "      </script>\n",
              "    </div>\n",
              "  </div>\n",
              "  "
            ]
          },
          "metadata": {},
          "execution_count": 28
        }
      ]
    },
    {
      "cell_type": "markdown",
      "source": [
        "# Feature extraction\n"
      ],
      "metadata": {
        "id": "m1vIu9aEKOwz"
      },
      "id": "m1vIu9aEKOwz"
    },
    {
      "cell_type": "markdown",
      "source": [
        "Idea: random forest/ linear regression to select most informative predictors:"
      ],
      "metadata": {
        "id": "OH-U1QqaK958"
      },
      "id": "OH-U1QqaK958"
    },
    {
      "cell_type": "markdown",
      "source": [
        "# Model implementation"
      ],
      "metadata": {
        "id": "wM_CNF9-Jmob"
      },
      "id": "wM_CNF9-Jmob"
    },
    {
      "cell_type": "markdown",
      "source": [
        "## Pre-processing data for the model"
      ],
      "metadata": {
        "id": "5X6_78eOLKFs"
      },
      "id": "5X6_78eOLKFs"
    },
    {
      "cell_type": "markdown",
      "source": [
        "save to csv, read using tf.data "
      ],
      "metadata": {
        "id": "OJaP8NuFN7k0"
      },
      "id": "OJaP8NuFN7k0"
    },
    {
      "cell_type": "code",
      "source": [
        "data.head()"
      ],
      "metadata": {
        "id": "-iNaYAPekz33",
        "colab": {
          "base_uri": "https://localhost:8080/",
          "height": 386
        },
        "outputId": "fe4be410-0899-470f-b90c-bc830cf43379"
      },
      "id": "-iNaYAPekz33",
      "execution_count": null,
      "outputs": [
        {
          "output_type": "execute_result",
          "data": {
            "text/plain": [
              "   Store        Date  Sales  Customers  Open  Promo  SchoolHoliday  \\\n",
              "0      1  2015-07-31   5263        555     1      1              1   \n",
              "1      1  2015-07-30   5020        546     1      1              1   \n",
              "2      1  2015-07-29   4782        523     1      1              1   \n",
              "3      1  2015-07-28   5011        560     1      1              1   \n",
              "4      1  2015-07-27   6102        612     1      1              1   \n",
              "\n",
              "   CompetitionDistance  Promo2  Promo2SinceWeek  ...  DayOfWeek_1  \\\n",
              "0               1270.0       0              0.0  ...            0   \n",
              "1               1270.0       0              0.0  ...            0   \n",
              "2               1270.0       0              0.0  ...            0   \n",
              "3               1270.0       0              0.0  ...            0   \n",
              "4               1270.0       0              0.0  ...            1   \n",
              "\n",
              "   DayOfWeek_2  DayOfWeek_3  DayOfWeek_4  DayOfWeek_5  DayOfWeek_6  \\\n",
              "0            0            0            0            1            0   \n",
              "1            0            0            1            0            0   \n",
              "2            0            1            0            0            0   \n",
              "3            1            0            0            0            0   \n",
              "4            0            0            0            0            0   \n",
              "\n",
              "   DayOfWeek_7  Year  Month  Day  \n",
              "0            0  2015     07   31  \n",
              "1            0  2015     07   30  \n",
              "2            0  2015     07   29  \n",
              "3            0  2015     07   28  \n",
              "4            0  2015     07   27  \n",
              "\n",
              "[5 rows x 32 columns]"
            ],
            "text/html": [
              "\n",
              "  <div id=\"df-bd02aa41-f707-4093-95e8-2cf3e646c392\">\n",
              "    <div class=\"colab-df-container\">\n",
              "      <div>\n",
              "<style scoped>\n",
              "    .dataframe tbody tr th:only-of-type {\n",
              "        vertical-align: middle;\n",
              "    }\n",
              "\n",
              "    .dataframe tbody tr th {\n",
              "        vertical-align: top;\n",
              "    }\n",
              "\n",
              "    .dataframe thead th {\n",
              "        text-align: right;\n",
              "    }\n",
              "</style>\n",
              "<table border=\"1\" class=\"dataframe\">\n",
              "  <thead>\n",
              "    <tr style=\"text-align: right;\">\n",
              "      <th></th>\n",
              "      <th>Store</th>\n",
              "      <th>Date</th>\n",
              "      <th>Sales</th>\n",
              "      <th>Customers</th>\n",
              "      <th>Open</th>\n",
              "      <th>Promo</th>\n",
              "      <th>SchoolHoliday</th>\n",
              "      <th>CompetitionDistance</th>\n",
              "      <th>Promo2</th>\n",
              "      <th>Promo2SinceWeek</th>\n",
              "      <th>...</th>\n",
              "      <th>DayOfWeek_1</th>\n",
              "      <th>DayOfWeek_2</th>\n",
              "      <th>DayOfWeek_3</th>\n",
              "      <th>DayOfWeek_4</th>\n",
              "      <th>DayOfWeek_5</th>\n",
              "      <th>DayOfWeek_6</th>\n",
              "      <th>DayOfWeek_7</th>\n",
              "      <th>Year</th>\n",
              "      <th>Month</th>\n",
              "      <th>Day</th>\n",
              "    </tr>\n",
              "  </thead>\n",
              "  <tbody>\n",
              "    <tr>\n",
              "      <th>0</th>\n",
              "      <td>1</td>\n",
              "      <td>2015-07-31</td>\n",
              "      <td>5263</td>\n",
              "      <td>555</td>\n",
              "      <td>1</td>\n",
              "      <td>1</td>\n",
              "      <td>1</td>\n",
              "      <td>1270.0</td>\n",
              "      <td>0</td>\n",
              "      <td>0.0</td>\n",
              "      <td>...</td>\n",
              "      <td>0</td>\n",
              "      <td>0</td>\n",
              "      <td>0</td>\n",
              "      <td>0</td>\n",
              "      <td>1</td>\n",
              "      <td>0</td>\n",
              "      <td>0</td>\n",
              "      <td>2015</td>\n",
              "      <td>07</td>\n",
              "      <td>31</td>\n",
              "    </tr>\n",
              "    <tr>\n",
              "      <th>1</th>\n",
              "      <td>1</td>\n",
              "      <td>2015-07-30</td>\n",
              "      <td>5020</td>\n",
              "      <td>546</td>\n",
              "      <td>1</td>\n",
              "      <td>1</td>\n",
              "      <td>1</td>\n",
              "      <td>1270.0</td>\n",
              "      <td>0</td>\n",
              "      <td>0.0</td>\n",
              "      <td>...</td>\n",
              "      <td>0</td>\n",
              "      <td>0</td>\n",
              "      <td>0</td>\n",
              "      <td>1</td>\n",
              "      <td>0</td>\n",
              "      <td>0</td>\n",
              "      <td>0</td>\n",
              "      <td>2015</td>\n",
              "      <td>07</td>\n",
              "      <td>30</td>\n",
              "    </tr>\n",
              "    <tr>\n",
              "      <th>2</th>\n",
              "      <td>1</td>\n",
              "      <td>2015-07-29</td>\n",
              "      <td>4782</td>\n",
              "      <td>523</td>\n",
              "      <td>1</td>\n",
              "      <td>1</td>\n",
              "      <td>1</td>\n",
              "      <td>1270.0</td>\n",
              "      <td>0</td>\n",
              "      <td>0.0</td>\n",
              "      <td>...</td>\n",
              "      <td>0</td>\n",
              "      <td>0</td>\n",
              "      <td>1</td>\n",
              "      <td>0</td>\n",
              "      <td>0</td>\n",
              "      <td>0</td>\n",
              "      <td>0</td>\n",
              "      <td>2015</td>\n",
              "      <td>07</td>\n",
              "      <td>29</td>\n",
              "    </tr>\n",
              "    <tr>\n",
              "      <th>3</th>\n",
              "      <td>1</td>\n",
              "      <td>2015-07-28</td>\n",
              "      <td>5011</td>\n",
              "      <td>560</td>\n",
              "      <td>1</td>\n",
              "      <td>1</td>\n",
              "      <td>1</td>\n",
              "      <td>1270.0</td>\n",
              "      <td>0</td>\n",
              "      <td>0.0</td>\n",
              "      <td>...</td>\n",
              "      <td>0</td>\n",
              "      <td>1</td>\n",
              "      <td>0</td>\n",
              "      <td>0</td>\n",
              "      <td>0</td>\n",
              "      <td>0</td>\n",
              "      <td>0</td>\n",
              "      <td>2015</td>\n",
              "      <td>07</td>\n",
              "      <td>28</td>\n",
              "    </tr>\n",
              "    <tr>\n",
              "      <th>4</th>\n",
              "      <td>1</td>\n",
              "      <td>2015-07-27</td>\n",
              "      <td>6102</td>\n",
              "      <td>612</td>\n",
              "      <td>1</td>\n",
              "      <td>1</td>\n",
              "      <td>1</td>\n",
              "      <td>1270.0</td>\n",
              "      <td>0</td>\n",
              "      <td>0.0</td>\n",
              "      <td>...</td>\n",
              "      <td>1</td>\n",
              "      <td>0</td>\n",
              "      <td>0</td>\n",
              "      <td>0</td>\n",
              "      <td>0</td>\n",
              "      <td>0</td>\n",
              "      <td>0</td>\n",
              "      <td>2015</td>\n",
              "      <td>07</td>\n",
              "      <td>27</td>\n",
              "    </tr>\n",
              "  </tbody>\n",
              "</table>\n",
              "<p>5 rows × 32 columns</p>\n",
              "</div>\n",
              "      <button class=\"colab-df-convert\" onclick=\"convertToInteractive('df-bd02aa41-f707-4093-95e8-2cf3e646c392')\"\n",
              "              title=\"Convert this dataframe to an interactive table.\"\n",
              "              style=\"display:none;\">\n",
              "        \n",
              "  <svg xmlns=\"http://www.w3.org/2000/svg\" height=\"24px\"viewBox=\"0 0 24 24\"\n",
              "       width=\"24px\">\n",
              "    <path d=\"M0 0h24v24H0V0z\" fill=\"none\"/>\n",
              "    <path d=\"M18.56 5.44l.94 2.06.94-2.06 2.06-.94-2.06-.94-.94-2.06-.94 2.06-2.06.94zm-11 1L8.5 8.5l.94-2.06 2.06-.94-2.06-.94L8.5 2.5l-.94 2.06-2.06.94zm10 10l.94 2.06.94-2.06 2.06-.94-2.06-.94-.94-2.06-.94 2.06-2.06.94z\"/><path d=\"M17.41 7.96l-1.37-1.37c-.4-.4-.92-.59-1.43-.59-.52 0-1.04.2-1.43.59L10.3 9.45l-7.72 7.72c-.78.78-.78 2.05 0 2.83L4 21.41c.39.39.9.59 1.41.59.51 0 1.02-.2 1.41-.59l7.78-7.78 2.81-2.81c.8-.78.8-2.07 0-2.86zM5.41 20L4 18.59l7.72-7.72 1.47 1.35L5.41 20z\"/>\n",
              "  </svg>\n",
              "      </button>\n",
              "      \n",
              "  <style>\n",
              "    .colab-df-container {\n",
              "      display:flex;\n",
              "      flex-wrap:wrap;\n",
              "      gap: 12px;\n",
              "    }\n",
              "\n",
              "    .colab-df-convert {\n",
              "      background-color: #E8F0FE;\n",
              "      border: none;\n",
              "      border-radius: 50%;\n",
              "      cursor: pointer;\n",
              "      display: none;\n",
              "      fill: #1967D2;\n",
              "      height: 32px;\n",
              "      padding: 0 0 0 0;\n",
              "      width: 32px;\n",
              "    }\n",
              "\n",
              "    .colab-df-convert:hover {\n",
              "      background-color: #E2EBFA;\n",
              "      box-shadow: 0px 1px 2px rgba(60, 64, 67, 0.3), 0px 1px 3px 1px rgba(60, 64, 67, 0.15);\n",
              "      fill: #174EA6;\n",
              "    }\n",
              "\n",
              "    [theme=dark] .colab-df-convert {\n",
              "      background-color: #3B4455;\n",
              "      fill: #D2E3FC;\n",
              "    }\n",
              "\n",
              "    [theme=dark] .colab-df-convert:hover {\n",
              "      background-color: #434B5C;\n",
              "      box-shadow: 0px 1px 3px 1px rgba(0, 0, 0, 0.15);\n",
              "      filter: drop-shadow(0px 1px 2px rgba(0, 0, 0, 0.3));\n",
              "      fill: #FFFFFF;\n",
              "    }\n",
              "  </style>\n",
              "\n",
              "      <script>\n",
              "        const buttonEl =\n",
              "          document.querySelector('#df-bd02aa41-f707-4093-95e8-2cf3e646c392 button.colab-df-convert');\n",
              "        buttonEl.style.display =\n",
              "          google.colab.kernel.accessAllowed ? 'block' : 'none';\n",
              "\n",
              "        async function convertToInteractive(key) {\n",
              "          const element = document.querySelector('#df-bd02aa41-f707-4093-95e8-2cf3e646c392');\n",
              "          const dataTable =\n",
              "            await google.colab.kernel.invokeFunction('convertToInteractive',\n",
              "                                                     [key], {});\n",
              "          if (!dataTable) return;\n",
              "\n",
              "          const docLinkHtml = 'Like what you see? Visit the ' +\n",
              "            '<a target=\"_blank\" href=https://colab.research.google.com/notebooks/data_table.ipynb>data table notebook</a>'\n",
              "            + ' to learn more about interactive tables.';\n",
              "          element.innerHTML = '';\n",
              "          dataTable['output_type'] = 'display_data';\n",
              "          await google.colab.output.renderOutput(dataTable, element);\n",
              "          const docLink = document.createElement('div');\n",
              "          docLink.innerHTML = docLinkHtml;\n",
              "          element.appendChild(docLink);\n",
              "        }\n",
              "      </script>\n",
              "    </div>\n",
              "  </div>\n",
              "  "
            ]
          },
          "metadata": {},
          "execution_count": 41
        }
      ]
    },
    {
      "cell_type": "code",
      "source": [
        "data['SchoolHoliday'].unique()"
      ],
      "metadata": {
        "id": "Vj1T4wP20ti_",
        "colab": {
          "base_uri": "https://localhost:8080/"
        },
        "outputId": "d36de929-f35b-4179-d66b-f727bb422615"
      },
      "id": "Vj1T4wP20ti_",
      "execution_count": null,
      "outputs": [
        {
          "output_type": "execute_result",
          "data": {
            "text/plain": [
              "array([1, 0])"
            ]
          },
          "metadata": {},
          "execution_count": 42
        }
      ]
    },
    {
      "cell_type": "markdown",
      "source": [
        "Categorical variables: Month, Day, Year, DayOfWeek, StateHoliday, StoreType, Assortment"
      ],
      "metadata": {
        "id": "x3DRlb6B0L_u"
      },
      "id": "x3DRlb6B0L_u"
    },
    {
      "cell_type": "code",
      "source": [
        "pd.DataFrame(data.dtypes, columns=['Type'])"
      ],
      "metadata": {
        "id": "-h5bjl2Dt8iJ",
        "colab": {
          "base_uri": "https://localhost:8080/",
          "height": 1000
        },
        "outputId": "a34fa94f-b7d6-46f0-9d13-fe8c4b0cf607"
      },
      "id": "-h5bjl2Dt8iJ",
      "execution_count": null,
      "outputs": [
        {
          "output_type": "execute_result",
          "data": {
            "text/plain": [
              "                        Type\n",
              "Store                  int64\n",
              "Date                  object\n",
              "Sales                  int64\n",
              "Customers              int64\n",
              "Open                   int64\n",
              "Promo                  int64\n",
              "SchoolHoliday          int64\n",
              "CompetitionDistance  float64\n",
              "Promo2                 int64\n",
              "Promo2SinceWeek      float64\n",
              "Promo2SinceYear      float64\n",
              "StateHoliday_0         uint8\n",
              "StateHoliday_a         uint8\n",
              "StateHoliday_b         uint8\n",
              "StateHoliday_c         uint8\n",
              "StoreType_a            uint8\n",
              "StoreType_b            uint8\n",
              "StoreType_c            uint8\n",
              "StoreType_d            uint8\n",
              "Assortment_a           uint8\n",
              "Assortment_b           uint8\n",
              "Assortment_c           uint8\n",
              "DayOfWeek_1            uint8\n",
              "DayOfWeek_2            uint8\n",
              "DayOfWeek_3            uint8\n",
              "DayOfWeek_4            uint8\n",
              "DayOfWeek_5            uint8\n",
              "DayOfWeek_6            uint8\n",
              "DayOfWeek_7            uint8\n",
              "Year                  object\n",
              "Month                 object\n",
              "Day                   object"
            ],
            "text/html": [
              "\n",
              "  <div id=\"df-8e861ea6-208c-4d31-a0a5-66c79a55254f\">\n",
              "    <div class=\"colab-df-container\">\n",
              "      <div>\n",
              "<style scoped>\n",
              "    .dataframe tbody tr th:only-of-type {\n",
              "        vertical-align: middle;\n",
              "    }\n",
              "\n",
              "    .dataframe tbody tr th {\n",
              "        vertical-align: top;\n",
              "    }\n",
              "\n",
              "    .dataframe thead th {\n",
              "        text-align: right;\n",
              "    }\n",
              "</style>\n",
              "<table border=\"1\" class=\"dataframe\">\n",
              "  <thead>\n",
              "    <tr style=\"text-align: right;\">\n",
              "      <th></th>\n",
              "      <th>Type</th>\n",
              "    </tr>\n",
              "  </thead>\n",
              "  <tbody>\n",
              "    <tr>\n",
              "      <th>Store</th>\n",
              "      <td>int64</td>\n",
              "    </tr>\n",
              "    <tr>\n",
              "      <th>Date</th>\n",
              "      <td>object</td>\n",
              "    </tr>\n",
              "    <tr>\n",
              "      <th>Sales</th>\n",
              "      <td>int64</td>\n",
              "    </tr>\n",
              "    <tr>\n",
              "      <th>Customers</th>\n",
              "      <td>int64</td>\n",
              "    </tr>\n",
              "    <tr>\n",
              "      <th>Open</th>\n",
              "      <td>int64</td>\n",
              "    </tr>\n",
              "    <tr>\n",
              "      <th>Promo</th>\n",
              "      <td>int64</td>\n",
              "    </tr>\n",
              "    <tr>\n",
              "      <th>SchoolHoliday</th>\n",
              "      <td>int64</td>\n",
              "    </tr>\n",
              "    <tr>\n",
              "      <th>CompetitionDistance</th>\n",
              "      <td>float64</td>\n",
              "    </tr>\n",
              "    <tr>\n",
              "      <th>Promo2</th>\n",
              "      <td>int64</td>\n",
              "    </tr>\n",
              "    <tr>\n",
              "      <th>Promo2SinceWeek</th>\n",
              "      <td>float64</td>\n",
              "    </tr>\n",
              "    <tr>\n",
              "      <th>Promo2SinceYear</th>\n",
              "      <td>float64</td>\n",
              "    </tr>\n",
              "    <tr>\n",
              "      <th>StateHoliday_0</th>\n",
              "      <td>uint8</td>\n",
              "    </tr>\n",
              "    <tr>\n",
              "      <th>StateHoliday_a</th>\n",
              "      <td>uint8</td>\n",
              "    </tr>\n",
              "    <tr>\n",
              "      <th>StateHoliday_b</th>\n",
              "      <td>uint8</td>\n",
              "    </tr>\n",
              "    <tr>\n",
              "      <th>StateHoliday_c</th>\n",
              "      <td>uint8</td>\n",
              "    </tr>\n",
              "    <tr>\n",
              "      <th>StoreType_a</th>\n",
              "      <td>uint8</td>\n",
              "    </tr>\n",
              "    <tr>\n",
              "      <th>StoreType_b</th>\n",
              "      <td>uint8</td>\n",
              "    </tr>\n",
              "    <tr>\n",
              "      <th>StoreType_c</th>\n",
              "      <td>uint8</td>\n",
              "    </tr>\n",
              "    <tr>\n",
              "      <th>StoreType_d</th>\n",
              "      <td>uint8</td>\n",
              "    </tr>\n",
              "    <tr>\n",
              "      <th>Assortment_a</th>\n",
              "      <td>uint8</td>\n",
              "    </tr>\n",
              "    <tr>\n",
              "      <th>Assortment_b</th>\n",
              "      <td>uint8</td>\n",
              "    </tr>\n",
              "    <tr>\n",
              "      <th>Assortment_c</th>\n",
              "      <td>uint8</td>\n",
              "    </tr>\n",
              "    <tr>\n",
              "      <th>DayOfWeek_1</th>\n",
              "      <td>uint8</td>\n",
              "    </tr>\n",
              "    <tr>\n",
              "      <th>DayOfWeek_2</th>\n",
              "      <td>uint8</td>\n",
              "    </tr>\n",
              "    <tr>\n",
              "      <th>DayOfWeek_3</th>\n",
              "      <td>uint8</td>\n",
              "    </tr>\n",
              "    <tr>\n",
              "      <th>DayOfWeek_4</th>\n",
              "      <td>uint8</td>\n",
              "    </tr>\n",
              "    <tr>\n",
              "      <th>DayOfWeek_5</th>\n",
              "      <td>uint8</td>\n",
              "    </tr>\n",
              "    <tr>\n",
              "      <th>DayOfWeek_6</th>\n",
              "      <td>uint8</td>\n",
              "    </tr>\n",
              "    <tr>\n",
              "      <th>DayOfWeek_7</th>\n",
              "      <td>uint8</td>\n",
              "    </tr>\n",
              "    <tr>\n",
              "      <th>Year</th>\n",
              "      <td>object</td>\n",
              "    </tr>\n",
              "    <tr>\n",
              "      <th>Month</th>\n",
              "      <td>object</td>\n",
              "    </tr>\n",
              "    <tr>\n",
              "      <th>Day</th>\n",
              "      <td>object</td>\n",
              "    </tr>\n",
              "  </tbody>\n",
              "</table>\n",
              "</div>\n",
              "      <button class=\"colab-df-convert\" onclick=\"convertToInteractive('df-8e861ea6-208c-4d31-a0a5-66c79a55254f')\"\n",
              "              title=\"Convert this dataframe to an interactive table.\"\n",
              "              style=\"display:none;\">\n",
              "        \n",
              "  <svg xmlns=\"http://www.w3.org/2000/svg\" height=\"24px\"viewBox=\"0 0 24 24\"\n",
              "       width=\"24px\">\n",
              "    <path d=\"M0 0h24v24H0V0z\" fill=\"none\"/>\n",
              "    <path d=\"M18.56 5.44l.94 2.06.94-2.06 2.06-.94-2.06-.94-.94-2.06-.94 2.06-2.06.94zm-11 1L8.5 8.5l.94-2.06 2.06-.94-2.06-.94L8.5 2.5l-.94 2.06-2.06.94zm10 10l.94 2.06.94-2.06 2.06-.94-2.06-.94-.94-2.06-.94 2.06-2.06.94z\"/><path d=\"M17.41 7.96l-1.37-1.37c-.4-.4-.92-.59-1.43-.59-.52 0-1.04.2-1.43.59L10.3 9.45l-7.72 7.72c-.78.78-.78 2.05 0 2.83L4 21.41c.39.39.9.59 1.41.59.51 0 1.02-.2 1.41-.59l7.78-7.78 2.81-2.81c.8-.78.8-2.07 0-2.86zM5.41 20L4 18.59l7.72-7.72 1.47 1.35L5.41 20z\"/>\n",
              "  </svg>\n",
              "      </button>\n",
              "      \n",
              "  <style>\n",
              "    .colab-df-container {\n",
              "      display:flex;\n",
              "      flex-wrap:wrap;\n",
              "      gap: 12px;\n",
              "    }\n",
              "\n",
              "    .colab-df-convert {\n",
              "      background-color: #E8F0FE;\n",
              "      border: none;\n",
              "      border-radius: 50%;\n",
              "      cursor: pointer;\n",
              "      display: none;\n",
              "      fill: #1967D2;\n",
              "      height: 32px;\n",
              "      padding: 0 0 0 0;\n",
              "      width: 32px;\n",
              "    }\n",
              "\n",
              "    .colab-df-convert:hover {\n",
              "      background-color: #E2EBFA;\n",
              "      box-shadow: 0px 1px 2px rgba(60, 64, 67, 0.3), 0px 1px 3px 1px rgba(60, 64, 67, 0.15);\n",
              "      fill: #174EA6;\n",
              "    }\n",
              "\n",
              "    [theme=dark] .colab-df-convert {\n",
              "      background-color: #3B4455;\n",
              "      fill: #D2E3FC;\n",
              "    }\n",
              "\n",
              "    [theme=dark] .colab-df-convert:hover {\n",
              "      background-color: #434B5C;\n",
              "      box-shadow: 0px 1px 3px 1px rgba(0, 0, 0, 0.15);\n",
              "      filter: drop-shadow(0px 1px 2px rgba(0, 0, 0, 0.3));\n",
              "      fill: #FFFFFF;\n",
              "    }\n",
              "  </style>\n",
              "\n",
              "      <script>\n",
              "        const buttonEl =\n",
              "          document.querySelector('#df-8e861ea6-208c-4d31-a0a5-66c79a55254f button.colab-df-convert');\n",
              "        buttonEl.style.display =\n",
              "          google.colab.kernel.accessAllowed ? 'block' : 'none';\n",
              "\n",
              "        async function convertToInteractive(key) {\n",
              "          const element = document.querySelector('#df-8e861ea6-208c-4d31-a0a5-66c79a55254f');\n",
              "          const dataTable =\n",
              "            await google.colab.kernel.invokeFunction('convertToInteractive',\n",
              "                                                     [key], {});\n",
              "          if (!dataTable) return;\n",
              "\n",
              "          const docLinkHtml = 'Like what you see? Visit the ' +\n",
              "            '<a target=\"_blank\" href=https://colab.research.google.com/notebooks/data_table.ipynb>data table notebook</a>'\n",
              "            + ' to learn more about interactive tables.';\n",
              "          element.innerHTML = '';\n",
              "          dataTable['output_type'] = 'display_data';\n",
              "          await google.colab.output.renderOutput(dataTable, element);\n",
              "          const docLink = document.createElement('div');\n",
              "          docLink.innerHTML = docLinkHtml;\n",
              "          element.appendChild(docLink);\n",
              "        }\n",
              "      </script>\n",
              "    </div>\n",
              "  </div>\n",
              "  "
            ]
          },
          "metadata": {},
          "execution_count": 43
        }
      ]
    },
    {
      "cell_type": "code",
      "source": [
        "import numpy as np\n",
        "from sklearn import preprocessing\n",
        "import tensorflow as tf"
      ],
      "metadata": {
        "id": "Kf87bATmRcA1"
      },
      "id": "Kf87bATmRcA1",
      "execution_count": null,
      "outputs": []
    },
    {
      "cell_type": "code",
      "source": [
        "binary_feature_names = [\"Open\", \"Promo\", \"SchoolHoliday\", \"Promo2\", \"Promo2SinceWeek\", \"Promo2SinceYear\", \"DayOfWeek_1\", \"DayOfWeek_2\", \"DayOfWeek_3\", \"DayOfWeek_4\", \"DayOfWeek_5\", \"DayOfWeek_6\", \"DayOfWeek_7\"]\n",
        "numeric_feature_names = [\"Customers\", \"CompetitionDistance\"]\n",
        "categorical_feature_names = [\"Year\", \"Day\", \"Month\"]"
      ],
      "metadata": {
        "id": "2J98p54QUUuW"
      },
      "id": "2J98p54QUUuW",
      "execution_count": null,
      "outputs": []
    },
    {
      "cell_type": "code",
      "source": [
        "data[\"Year\"] = pd.to_numeric(data[\"Year\"])\n",
        "data[\"Day\"] = pd.to_numeric(data[\"Day\"])\n",
        "data[\"Month\"] = pd.to_numeric(data[\"Month\"])"
      ],
      "metadata": {
        "id": "Xgc2UgTCVJp2"
      },
      "id": "Xgc2UgTCVJp2",
      "execution_count": null,
      "outputs": []
    },
    {
      "cell_type": "code",
      "execution_count": null,
      "id": "ba385bbf",
      "metadata": {
        "id": "ba385bbf",
        "colab": {
          "base_uri": "https://localhost:8080/"
        },
        "outputId": "44b8af72-434d-4e7f-a33d-1094eb43413f"
      },
      "outputs": [
        {
          "output_type": "stream",
          "name": "stdout",
          "text": [
            "X shape:  (1017209, 29)  y shape:  (1017209,)\n"
          ]
        }
      ],
      "source": [
        "# data splitting\n",
        "\n",
        "data['Year'] = tf.dtypes.cast(data['Year'], tf.int64)\n",
        "data['Day'] = tf.dtypes.cast(data['Day'], tf.int64)\n",
        "data['Month'] = tf.dtypes.cast(data['Month'], tf.int64)\n",
        "X = data.drop(['Sales', 'Store', 'Date'], axis =1)\n",
        "y = data['Sales']\n",
        "print(\"X shape: \", X.shape, \" y shape: \", y.shape)"
      ]
    },
    {
      "cell_type": "code",
      "source": [
        "pd.DataFrame(data.dtypes, columns=['Type'])"
      ],
      "metadata": {
        "colab": {
          "base_uri": "https://localhost:8080/",
          "height": 1000
        },
        "id": "VARQa6W8UJYR",
        "outputId": "ccee9be6-8d23-4af5-b542-ac6d9fcca88f"
      },
      "id": "VARQa6W8UJYR",
      "execution_count": null,
      "outputs": [
        {
          "output_type": "execute_result",
          "data": {
            "text/plain": [
              "                        Type\n",
              "Store                  int64\n",
              "Date                  object\n",
              "Sales                  int64\n",
              "Customers              int64\n",
              "Open                   int64\n",
              "Promo                  int64\n",
              "SchoolHoliday          int64\n",
              "CompetitionDistance  float64\n",
              "Promo2                 int64\n",
              "Promo2SinceWeek      float64\n",
              "Promo2SinceYear      float64\n",
              "StateHoliday_0         uint8\n",
              "StateHoliday_a         uint8\n",
              "StateHoliday_b         uint8\n",
              "StateHoliday_c         uint8\n",
              "StoreType_a            uint8\n",
              "StoreType_b            uint8\n",
              "StoreType_c            uint8\n",
              "StoreType_d            uint8\n",
              "Assortment_a           uint8\n",
              "Assortment_b           uint8\n",
              "Assortment_c           uint8\n",
              "DayOfWeek_1            uint8\n",
              "DayOfWeek_2            uint8\n",
              "DayOfWeek_3            uint8\n",
              "DayOfWeek_4            uint8\n",
              "DayOfWeek_5            uint8\n",
              "DayOfWeek_6            uint8\n",
              "DayOfWeek_7            uint8\n",
              "Year                   int64\n",
              "Month                  int64\n",
              "Day                    int64"
            ],
            "text/html": [
              "\n",
              "  <div id=\"df-a753db1d-c4d1-4c06-be88-641e142e85d0\">\n",
              "    <div class=\"colab-df-container\">\n",
              "      <div>\n",
              "<style scoped>\n",
              "    .dataframe tbody tr th:only-of-type {\n",
              "        vertical-align: middle;\n",
              "    }\n",
              "\n",
              "    .dataframe tbody tr th {\n",
              "        vertical-align: top;\n",
              "    }\n",
              "\n",
              "    .dataframe thead th {\n",
              "        text-align: right;\n",
              "    }\n",
              "</style>\n",
              "<table border=\"1\" class=\"dataframe\">\n",
              "  <thead>\n",
              "    <tr style=\"text-align: right;\">\n",
              "      <th></th>\n",
              "      <th>Type</th>\n",
              "    </tr>\n",
              "  </thead>\n",
              "  <tbody>\n",
              "    <tr>\n",
              "      <th>Store</th>\n",
              "      <td>int64</td>\n",
              "    </tr>\n",
              "    <tr>\n",
              "      <th>Date</th>\n",
              "      <td>object</td>\n",
              "    </tr>\n",
              "    <tr>\n",
              "      <th>Sales</th>\n",
              "      <td>int64</td>\n",
              "    </tr>\n",
              "    <tr>\n",
              "      <th>Customers</th>\n",
              "      <td>int64</td>\n",
              "    </tr>\n",
              "    <tr>\n",
              "      <th>Open</th>\n",
              "      <td>int64</td>\n",
              "    </tr>\n",
              "    <tr>\n",
              "      <th>Promo</th>\n",
              "      <td>int64</td>\n",
              "    </tr>\n",
              "    <tr>\n",
              "      <th>SchoolHoliday</th>\n",
              "      <td>int64</td>\n",
              "    </tr>\n",
              "    <tr>\n",
              "      <th>CompetitionDistance</th>\n",
              "      <td>float64</td>\n",
              "    </tr>\n",
              "    <tr>\n",
              "      <th>Promo2</th>\n",
              "      <td>int64</td>\n",
              "    </tr>\n",
              "    <tr>\n",
              "      <th>Promo2SinceWeek</th>\n",
              "      <td>float64</td>\n",
              "    </tr>\n",
              "    <tr>\n",
              "      <th>Promo2SinceYear</th>\n",
              "      <td>float64</td>\n",
              "    </tr>\n",
              "    <tr>\n",
              "      <th>StateHoliday_0</th>\n",
              "      <td>uint8</td>\n",
              "    </tr>\n",
              "    <tr>\n",
              "      <th>StateHoliday_a</th>\n",
              "      <td>uint8</td>\n",
              "    </tr>\n",
              "    <tr>\n",
              "      <th>StateHoliday_b</th>\n",
              "      <td>uint8</td>\n",
              "    </tr>\n",
              "    <tr>\n",
              "      <th>StateHoliday_c</th>\n",
              "      <td>uint8</td>\n",
              "    </tr>\n",
              "    <tr>\n",
              "      <th>StoreType_a</th>\n",
              "      <td>uint8</td>\n",
              "    </tr>\n",
              "    <tr>\n",
              "      <th>StoreType_b</th>\n",
              "      <td>uint8</td>\n",
              "    </tr>\n",
              "    <tr>\n",
              "      <th>StoreType_c</th>\n",
              "      <td>uint8</td>\n",
              "    </tr>\n",
              "    <tr>\n",
              "      <th>StoreType_d</th>\n",
              "      <td>uint8</td>\n",
              "    </tr>\n",
              "    <tr>\n",
              "      <th>Assortment_a</th>\n",
              "      <td>uint8</td>\n",
              "    </tr>\n",
              "    <tr>\n",
              "      <th>Assortment_b</th>\n",
              "      <td>uint8</td>\n",
              "    </tr>\n",
              "    <tr>\n",
              "      <th>Assortment_c</th>\n",
              "      <td>uint8</td>\n",
              "    </tr>\n",
              "    <tr>\n",
              "      <th>DayOfWeek_1</th>\n",
              "      <td>uint8</td>\n",
              "    </tr>\n",
              "    <tr>\n",
              "      <th>DayOfWeek_2</th>\n",
              "      <td>uint8</td>\n",
              "    </tr>\n",
              "    <tr>\n",
              "      <th>DayOfWeek_3</th>\n",
              "      <td>uint8</td>\n",
              "    </tr>\n",
              "    <tr>\n",
              "      <th>DayOfWeek_4</th>\n",
              "      <td>uint8</td>\n",
              "    </tr>\n",
              "    <tr>\n",
              "      <th>DayOfWeek_5</th>\n",
              "      <td>uint8</td>\n",
              "    </tr>\n",
              "    <tr>\n",
              "      <th>DayOfWeek_6</th>\n",
              "      <td>uint8</td>\n",
              "    </tr>\n",
              "    <tr>\n",
              "      <th>DayOfWeek_7</th>\n",
              "      <td>uint8</td>\n",
              "    </tr>\n",
              "    <tr>\n",
              "      <th>Year</th>\n",
              "      <td>int64</td>\n",
              "    </tr>\n",
              "    <tr>\n",
              "      <th>Month</th>\n",
              "      <td>int64</td>\n",
              "    </tr>\n",
              "    <tr>\n",
              "      <th>Day</th>\n",
              "      <td>int64</td>\n",
              "    </tr>\n",
              "  </tbody>\n",
              "</table>\n",
              "</div>\n",
              "      <button class=\"colab-df-convert\" onclick=\"convertToInteractive('df-a753db1d-c4d1-4c06-be88-641e142e85d0')\"\n",
              "              title=\"Convert this dataframe to an interactive table.\"\n",
              "              style=\"display:none;\">\n",
              "        \n",
              "  <svg xmlns=\"http://www.w3.org/2000/svg\" height=\"24px\"viewBox=\"0 0 24 24\"\n",
              "       width=\"24px\">\n",
              "    <path d=\"M0 0h24v24H0V0z\" fill=\"none\"/>\n",
              "    <path d=\"M18.56 5.44l.94 2.06.94-2.06 2.06-.94-2.06-.94-.94-2.06-.94 2.06-2.06.94zm-11 1L8.5 8.5l.94-2.06 2.06-.94-2.06-.94L8.5 2.5l-.94 2.06-2.06.94zm10 10l.94 2.06.94-2.06 2.06-.94-2.06-.94-.94-2.06-.94 2.06-2.06.94z\"/><path d=\"M17.41 7.96l-1.37-1.37c-.4-.4-.92-.59-1.43-.59-.52 0-1.04.2-1.43.59L10.3 9.45l-7.72 7.72c-.78.78-.78 2.05 0 2.83L4 21.41c.39.39.9.59 1.41.59.51 0 1.02-.2 1.41-.59l7.78-7.78 2.81-2.81c.8-.78.8-2.07 0-2.86zM5.41 20L4 18.59l7.72-7.72 1.47 1.35L5.41 20z\"/>\n",
              "  </svg>\n",
              "      </button>\n",
              "      \n",
              "  <style>\n",
              "    .colab-df-container {\n",
              "      display:flex;\n",
              "      flex-wrap:wrap;\n",
              "      gap: 12px;\n",
              "    }\n",
              "\n",
              "    .colab-df-convert {\n",
              "      background-color: #E8F0FE;\n",
              "      border: none;\n",
              "      border-radius: 50%;\n",
              "      cursor: pointer;\n",
              "      display: none;\n",
              "      fill: #1967D2;\n",
              "      height: 32px;\n",
              "      padding: 0 0 0 0;\n",
              "      width: 32px;\n",
              "    }\n",
              "\n",
              "    .colab-df-convert:hover {\n",
              "      background-color: #E2EBFA;\n",
              "      box-shadow: 0px 1px 2px rgba(60, 64, 67, 0.3), 0px 1px 3px 1px rgba(60, 64, 67, 0.15);\n",
              "      fill: #174EA6;\n",
              "    }\n",
              "\n",
              "    [theme=dark] .colab-df-convert {\n",
              "      background-color: #3B4455;\n",
              "      fill: #D2E3FC;\n",
              "    }\n",
              "\n",
              "    [theme=dark] .colab-df-convert:hover {\n",
              "      background-color: #434B5C;\n",
              "      box-shadow: 0px 1px 3px 1px rgba(0, 0, 0, 0.15);\n",
              "      filter: drop-shadow(0px 1px 2px rgba(0, 0, 0, 0.3));\n",
              "      fill: #FFFFFF;\n",
              "    }\n",
              "  </style>\n",
              "\n",
              "      <script>\n",
              "        const buttonEl =\n",
              "          document.querySelector('#df-a753db1d-c4d1-4c06-be88-641e142e85d0 button.colab-df-convert');\n",
              "        buttonEl.style.display =\n",
              "          google.colab.kernel.accessAllowed ? 'block' : 'none';\n",
              "\n",
              "        async function convertToInteractive(key) {\n",
              "          const element = document.querySelector('#df-a753db1d-c4d1-4c06-be88-641e142e85d0');\n",
              "          const dataTable =\n",
              "            await google.colab.kernel.invokeFunction('convertToInteractive',\n",
              "                                                     [key], {});\n",
              "          if (!dataTable) return;\n",
              "\n",
              "          const docLinkHtml = 'Like what you see? Visit the ' +\n",
              "            '<a target=\"_blank\" href=https://colab.research.google.com/notebooks/data_table.ipynb>data table notebook</a>'\n",
              "            + ' to learn more about interactive tables.';\n",
              "          element.innerHTML = '';\n",
              "          dataTable['output_type'] = 'display_data';\n",
              "          await google.colab.output.renderOutput(dataTable, element);\n",
              "          const docLink = document.createElement('div');\n",
              "          docLink.innerHTML = docLinkHtml;\n",
              "          element.appendChild(docLink);\n",
              "        }\n",
              "      </script>\n",
              "    </div>\n",
              "  </div>\n",
              "  "
            ]
          },
          "metadata": {},
          "execution_count": 48
        }
      ]
    },
    {
      "cell_type": "markdown",
      "source": [
        "Binary: Open, Promo, SchoolHolidays, Promo2, Promo2SinceWeek, Promo2SinceYear, DayOfWeek_1\tDayOfWeek_2\tDayOfWeek_3\tDayOfWeek_4\tDayOfWeek_5\tDayOfWeek_6\tDayOfWeek_7\t\n",
        "\n",
        "Numerical: Customers, CompetitionDistance, "
      ],
      "metadata": {
        "id": "FmPZ4ywgMWjl"
      },
      "id": "FmPZ4ywgMWjl"
    },
    {
      "cell_type": "code",
      "source": [
        "df.to_csv()"
      ],
      "metadata": {
        "id": "DsuvCwLCiM2m"
      },
      "id": "DsuvCwLCiM2m",
      "execution_count": null,
      "outputs": []
    },
    {
      "cell_type": "code",
      "execution_count": null,
      "id": "ccce78fc",
      "metadata": {
        "id": "ccce78fc",
        "colab": {
          "base_uri": "https://localhost:8080/"
        },
        "outputId": "492b9a35-d6e8-4fc6-b890-638776e622ab"
      },
      "outputs": [
        {
          "output_type": "stream",
          "name": "stdout",
          "text": [
            "Xtrain:  (813767, 29) X_test (203442, 29) y_train (813767,)\n"
          ]
        }
      ],
      "source": [
        "X_train, X_test, y_train, y_test = train_test_split(X, y, test_size=0.2, random_state=42)\n",
        "print(\"Xtrain: \", X_train.shape, \"X_test\", X_test.shape, \"y_train\", y_train.shape)"
      ]
    },
    {
      "cell_type": "markdown",
      "source": [],
      "metadata": {
        "id": "Ra2IUatrRQyb"
      },
      "id": "Ra2IUatrRQyb"
    },
    {
      "cell_type": "raw",
      "id": "e4423eed",
      "metadata": {
        "id": "e4423eed"
      },
      "source": [
        "MODEL"
      ]
    },
    {
      "cell_type": "markdown",
      "source": [
        "## Model architecture"
      ],
      "metadata": {
        "id": "FjqqsW47LgYF"
      },
      "id": "FjqqsW47LgYF"
    },
    {
      "cell_type": "code",
      "execution_count": null,
      "id": "ea41b25e",
      "metadata": {
        "id": "ea41b25e"
      },
      "outputs": [],
      "source": [
        "from tensorflow.keras.models import Sequential\n",
        "from tensorflow.keras.layers import Dense"
      ]
    },
    {
      "cell_type": "markdown",
      "id": "0070c355",
      "metadata": {
        "id": "0070c355"
      },
      "source": [
        "Sequential - Adds a layer instance on top of the layer stack.\n",
        "Arguments:\n",
        "layer: layer instance.\n",
        "\n",
        "\n",
        "tf.keras.layers.Dense(\n",
        "    units,\n",
        "    activation=None,\n",
        "    use_bias=True,\n",
        "    kernel_initializer=\"glorot_uniform\",\n",
        "    bias_initializer=\"zeros\",\n",
        "    kernel_regularizer=None,\n",
        "    bias_regularizer=None,\n",
        "    activity_regularizer=None,\n",
        "    kernel_constraint=None,\n",
        "    bias_constraint=None,\n",
        "    **kwargs\n",
        ")"
      ]
    },
    {
      "cell_type": "code",
      "execution_count": null,
      "id": "cd152203",
      "metadata": {
        "id": "cd152203"
      },
      "outputs": [],
      "source": [
        "#model with densely-connected NN layer\n",
        "model = Sequential()\n",
        "\n",
        "# first hidden layer\n",
        "model.add(Dense(40, input_shape=(29,), activation='sigmoid')) \n",
        "\n",
        "# hidden layers - 4\n",
        "model.add(Dense(80, activation='sigmoid'))\n",
        "model.add(Dense(80, activation='sigmoid'))\n",
        "model.add(Dense(80, activation='sigmoid'))\n",
        "model.add(Dense(80, activation='sigmoid'))\n",
        "#output layer layer\n",
        "model.add(Dense(1))"
      ]
    },
    {
      "cell_type": "markdown",
      "id": "e2ebb601",
      "metadata": {
        "id": "e2ebb601"
      },
      "source": [
        "Model.compile(\n",
        "    optimizer=\"rmsprop\",\n",
        "    loss=None,\n",
        "    metrics=None,\n",
        "    loss_weights=None,\n",
        "    weighted_metrics=None,\n",
        "    run_eagerly=None,\n",
        "    steps_per_execution=None,\n",
        "    jit_compile=None,\n",
        "    **kwargs\n",
        ")"
      ]
    },
    {
      "cell_type": "code",
      "execution_count": null,
      "id": "75c8265d",
      "metadata": {
        "id": "75c8265d"
      },
      "outputs": [],
      "source": [
        "# compile\n",
        "model.compile(optimizer='sgd', loss='mse',metrics=[tf.keras.metrics.RootMeanSquaredError()])"
      ]
    },
    {
      "cell_type": "markdown",
      "id": "ab2c5d49",
      "metadata": {
        "id": "ab2c5d49"
      },
      "source": [
        "Model.fit(\n",
        "    x=None,\n",
        "    y=None,\n",
        "    batch_size=None,\n",
        "    epochs=1,\n",
        "    verbose=\"auto\",\n",
        "    callbacks=None,\n",
        "    validation_split=0.0,\n",
        "    validation_data=None,\n",
        "    shuffle=True,\n",
        "    class_weight=None,\n",
        "    sample_weight=None,\n",
        "    initial_epoch=0,\n",
        "    steps_per_epoch=None,\n",
        "    validation_steps=None,\n",
        "    validation_batch_size=None,\n",
        "    validation_freq=1,\n",
        "    max_queue_size=10,\n",
        "    workers=1,\n",
        "    use_multiprocessing=False,\n",
        ")"
      ]
    },
    {
      "cell_type": "code",
      "execution_count": null,
      "id": "ad5b6328",
      "metadata": {
        "id": "ad5b6328",
        "colab": {
          "base_uri": "https://localhost:8080/"
        },
        "outputId": "577b6e05-fa2f-4c88-dcfa-30364cbfd092"
      },
      "outputs": [
        {
          "output_type": "stream",
          "name": "stdout",
          "text": [
            "Epoch 1/20\n",
            "204/204 [==============================] - 6s 25ms/step - loss: 15048683.0000 - root_mean_squared_error: 3879.2632\n",
            "Epoch 2/20\n",
            "204/204 [==============================] - 5s 25ms/step - loss: 14836995.0000 - root_mean_squared_error: 3851.8821\n",
            "Epoch 3/20\n",
            "204/204 [==============================] - 5s 25ms/step - loss: 14837319.0000 - root_mean_squared_error: 3851.9241\n",
            "Epoch 4/20\n",
            "204/204 [==============================] - 7s 35ms/step - loss: 14836429.0000 - root_mean_squared_error: 3851.8086\n",
            "Epoch 5/20\n",
            "204/204 [==============================] - 5s 26ms/step - loss: 14836857.0000 - root_mean_squared_error: 3851.8640\n",
            "Epoch 6/20\n",
            "204/204 [==============================] - 5s 25ms/step - loss: 14836897.0000 - root_mean_squared_error: 3851.8694\n",
            "Epoch 7/20\n",
            "204/204 [==============================] - 5s 25ms/step - loss: 14836791.0000 - root_mean_squared_error: 3851.8555\n",
            "Epoch 8/20\n",
            "204/204 [==============================] - 5s 25ms/step - loss: 14836702.0000 - root_mean_squared_error: 3851.8440\n",
            "Epoch 9/20\n",
            "204/204 [==============================] - 5s 25ms/step - loss: 14836540.0000 - root_mean_squared_error: 3851.8230\n",
            "Epoch 10/20\n",
            "204/204 [==============================] - 5s 25ms/step - loss: 14836736.0000 - root_mean_squared_error: 3851.8484\n",
            "Epoch 11/20\n",
            "204/204 [==============================] - 5s 25ms/step - loss: 14837366.0000 - root_mean_squared_error: 3851.9302\n",
            "Epoch 12/20\n",
            "204/204 [==============================] - 6s 27ms/step - loss: 14836969.0000 - root_mean_squared_error: 3851.8787\n",
            "Epoch 13/20\n",
            "204/204 [==============================] - 5s 26ms/step - loss: 14837325.0000 - root_mean_squared_error: 3851.9248\n",
            "Epoch 14/20\n",
            "204/204 [==============================] - 5s 26ms/step - loss: 14836329.0000 - root_mean_squared_error: 3851.7957\n",
            "Epoch 15/20\n",
            "204/204 [==============================] - 5s 25ms/step - loss: 14836417.0000 - root_mean_squared_error: 3851.8069\n",
            "Epoch 16/20\n",
            "204/204 [==============================] - 5s 25ms/step - loss: 14837767.0000 - root_mean_squared_error: 3851.9822\n",
            "Epoch 17/20\n",
            "204/204 [==============================] - 5s 27ms/step - loss: 14837430.0000 - root_mean_squared_error: 3851.9385\n",
            "Epoch 18/20\n",
            "204/204 [==============================] - 5s 25ms/step - loss: 14837062.0000 - root_mean_squared_error: 3851.8906\n",
            "Epoch 19/20\n",
            "204/204 [==============================] - 5s 25ms/step - loss: 14836524.0000 - root_mean_squared_error: 3851.8208\n",
            "Epoch 20/20\n",
            "204/204 [==============================] - 5s 26ms/step - loss: 14836541.0000 - root_mean_squared_error: 3851.8230\n"
          ]
        },
        {
          "output_type": "execute_result",
          "data": {
            "text/plain": [
              "<keras.callbacks.History at 0x7f8f73bf9730>"
            ]
          },
          "metadata": {},
          "execution_count": 53
        }
      ],
      "source": [
        "# fit\n",
        "model.fit(X_train, y_train, epochs=20, batch_size = 4000)"
      ]
    },
    {
      "cell_type": "markdown",
      "id": "7526fde9",
      "metadata": {
        "id": "7526fde9"
      },
      "source": [
        "Returns the loss value & metrics values for the model in test mode.\n",
        "\n",
        "Computation is done in batches (see the batch_size arg.)\n",
        "\n",
        "Model.evaluate(\n",
        "    x=None,\n",
        "    y=None,\n",
        "    batch_size=None,\n",
        "    verbose=\"auto\",\n",
        "    sample_weight=None,\n",
        "    steps=None,\n",
        "    callbacks=None,\n",
        "    max_queue_size=10,\n",
        "    workers=1,\n",
        "    use_multiprocessing=False,\n",
        "    return_dict=False,\n",
        "    **kwargs\n",
        ")"
      ]
    },
    {
      "cell_type": "code",
      "execution_count": null,
      "id": "cd16759f",
      "metadata": {
        "id": "cd16759f",
        "colab": {
          "base_uri": "https://localhost:8080/"
        },
        "outputId": "6de426bb-8c0a-406b-c286-5eefd4beafe4"
      },
      "outputs": [
        {
          "output_type": "stream",
          "name": "stdout",
          "text": [
            "6358/6358 [==============================] - 13s 2ms/step - loss: 14774871.0000 - root_mean_squared_error: 3843.8093\n",
            "Rmse 3843.809326171875 Loss 14774871.0\n"
          ]
        }
      ],
      "source": [
        "# evaulate\n",
        "loss, rmse = model.evaluate(X_test, y_test)\n",
        "print('Rmse', rmse, 'Loss', loss)"
      ]
    },
    {
      "cell_type": "code",
      "execution_count": null,
      "id": "918f3c2a",
      "metadata": {
        "id": "918f3c2a",
        "colab": {
          "base_uri": "https://localhost:8080/",
          "height": 345
        },
        "outputId": "7fa4c427-3abf-4eb1-8d78-5dc864738d20"
      },
      "outputs": [
        {
          "output_type": "stream",
          "name": "stdout",
          "text": [
            " 2318/31788 [=>............................] - ETA: 55s"
          ]
        },
        {
          "output_type": "error",
          "ename": "KeyboardInterrupt",
          "evalue": "ignored",
          "traceback": [
            "\u001b[0;31m---------------------------------------------------------------------------\u001b[0m",
            "\u001b[0;31mKeyboardInterrupt\u001b[0m                         Traceback (most recent call last)",
            "\u001b[0;32m<ipython-input-55-073b7fae8952>\u001b[0m in \u001b[0;36m<module>\u001b[0;34m\u001b[0m\n\u001b[0;32m----> 1\u001b[0;31m \u001b[0mpredictions\u001b[0m \u001b[0;34m=\u001b[0m \u001b[0mmodel\u001b[0m\u001b[0;34m.\u001b[0m\u001b[0mpredict\u001b[0m\u001b[0;34m(\u001b[0m\u001b[0mX\u001b[0m\u001b[0;34m)\u001b[0m\u001b[0;34m\u001b[0m\u001b[0;34m\u001b[0m\u001b[0m\n\u001b[0m",
            "\u001b[0;32m/usr/local/lib/python3.8/dist-packages/keras/utils/traceback_utils.py\u001b[0m in \u001b[0;36merror_handler\u001b[0;34m(*args, **kwargs)\u001b[0m\n\u001b[1;32m     62\u001b[0m     \u001b[0mfiltered_tb\u001b[0m \u001b[0;34m=\u001b[0m \u001b[0;32mNone\u001b[0m\u001b[0;34m\u001b[0m\u001b[0;34m\u001b[0m\u001b[0m\n\u001b[1;32m     63\u001b[0m     \u001b[0;32mtry\u001b[0m\u001b[0;34m:\u001b[0m\u001b[0;34m\u001b[0m\u001b[0;34m\u001b[0m\u001b[0m\n\u001b[0;32m---> 64\u001b[0;31m       \u001b[0;32mreturn\u001b[0m \u001b[0mfn\u001b[0m\u001b[0;34m(\u001b[0m\u001b[0;34m*\u001b[0m\u001b[0margs\u001b[0m\u001b[0;34m,\u001b[0m \u001b[0;34m**\u001b[0m\u001b[0mkwargs\u001b[0m\u001b[0;34m)\u001b[0m\u001b[0;34m\u001b[0m\u001b[0;34m\u001b[0m\u001b[0m\n\u001b[0m\u001b[1;32m     65\u001b[0m     \u001b[0;32mexcept\u001b[0m \u001b[0mException\u001b[0m \u001b[0;32mas\u001b[0m \u001b[0me\u001b[0m\u001b[0;34m:\u001b[0m  \u001b[0;31m# pylint: disable=broad-except\u001b[0m\u001b[0;34m\u001b[0m\u001b[0;34m\u001b[0m\u001b[0m\n\u001b[1;32m     66\u001b[0m       \u001b[0mfiltered_tb\u001b[0m \u001b[0;34m=\u001b[0m \u001b[0m_process_traceback_frames\u001b[0m\u001b[0;34m(\u001b[0m\u001b[0me\u001b[0m\u001b[0;34m.\u001b[0m\u001b[0m__traceback__\u001b[0m\u001b[0;34m)\u001b[0m\u001b[0;34m\u001b[0m\u001b[0;34m\u001b[0m\u001b[0m\n",
            "\u001b[0;32m/usr/local/lib/python3.8/dist-packages/keras/engine/training.py\u001b[0m in \u001b[0;36mpredict\u001b[0;34m(self, x, batch_size, verbose, steps, callbacks, max_queue_size, workers, use_multiprocessing)\u001b[0m\n\u001b[1;32m   2031\u001b[0m           \u001b[0;32mfor\u001b[0m \u001b[0mstep\u001b[0m \u001b[0;32min\u001b[0m \u001b[0mdata_handler\u001b[0m\u001b[0;34m.\u001b[0m\u001b[0msteps\u001b[0m\u001b[0;34m(\u001b[0m\u001b[0;34m)\u001b[0m\u001b[0;34m:\u001b[0m\u001b[0;34m\u001b[0m\u001b[0;34m\u001b[0m\u001b[0m\n\u001b[1;32m   2032\u001b[0m             \u001b[0mcallbacks\u001b[0m\u001b[0;34m.\u001b[0m\u001b[0mon_predict_batch_begin\u001b[0m\u001b[0;34m(\u001b[0m\u001b[0mstep\u001b[0m\u001b[0;34m)\u001b[0m\u001b[0;34m\u001b[0m\u001b[0;34m\u001b[0m\u001b[0m\n\u001b[0;32m-> 2033\u001b[0;31m             \u001b[0mtmp_batch_outputs\u001b[0m \u001b[0;34m=\u001b[0m \u001b[0mself\u001b[0m\u001b[0;34m.\u001b[0m\u001b[0mpredict_function\u001b[0m\u001b[0;34m(\u001b[0m\u001b[0miterator\u001b[0m\u001b[0;34m)\u001b[0m\u001b[0;34m\u001b[0m\u001b[0;34m\u001b[0m\u001b[0m\n\u001b[0m\u001b[1;32m   2034\u001b[0m             \u001b[0;32mif\u001b[0m \u001b[0mdata_handler\u001b[0m\u001b[0;34m.\u001b[0m\u001b[0mshould_sync\u001b[0m\u001b[0;34m:\u001b[0m\u001b[0;34m\u001b[0m\u001b[0;34m\u001b[0m\u001b[0m\n\u001b[1;32m   2035\u001b[0m               \u001b[0mcontext\u001b[0m\u001b[0;34m.\u001b[0m\u001b[0masync_wait\u001b[0m\u001b[0;34m(\u001b[0m\u001b[0;34m)\u001b[0m\u001b[0;34m\u001b[0m\u001b[0;34m\u001b[0m\u001b[0m\n",
            "\u001b[0;32m/usr/local/lib/python3.8/dist-packages/tensorflow/python/util/traceback_utils.py\u001b[0m in \u001b[0;36merror_handler\u001b[0;34m(*args, **kwargs)\u001b[0m\n\u001b[1;32m    148\u001b[0m     \u001b[0mfiltered_tb\u001b[0m \u001b[0;34m=\u001b[0m \u001b[0;32mNone\u001b[0m\u001b[0;34m\u001b[0m\u001b[0;34m\u001b[0m\u001b[0m\n\u001b[1;32m    149\u001b[0m     \u001b[0;32mtry\u001b[0m\u001b[0;34m:\u001b[0m\u001b[0;34m\u001b[0m\u001b[0;34m\u001b[0m\u001b[0m\n\u001b[0;32m--> 150\u001b[0;31m       \u001b[0;32mreturn\u001b[0m \u001b[0mfn\u001b[0m\u001b[0;34m(\u001b[0m\u001b[0;34m*\u001b[0m\u001b[0margs\u001b[0m\u001b[0;34m,\u001b[0m \u001b[0;34m**\u001b[0m\u001b[0mkwargs\u001b[0m\u001b[0;34m)\u001b[0m\u001b[0;34m\u001b[0m\u001b[0;34m\u001b[0m\u001b[0m\n\u001b[0m\u001b[1;32m    151\u001b[0m     \u001b[0;32mexcept\u001b[0m \u001b[0mException\u001b[0m \u001b[0;32mas\u001b[0m \u001b[0me\u001b[0m\u001b[0;34m:\u001b[0m\u001b[0;34m\u001b[0m\u001b[0;34m\u001b[0m\u001b[0m\n\u001b[1;32m    152\u001b[0m       \u001b[0mfiltered_tb\u001b[0m \u001b[0;34m=\u001b[0m \u001b[0m_process_traceback_frames\u001b[0m\u001b[0;34m(\u001b[0m\u001b[0me\u001b[0m\u001b[0;34m.\u001b[0m\u001b[0m__traceback__\u001b[0m\u001b[0;34m)\u001b[0m\u001b[0;34m\u001b[0m\u001b[0;34m\u001b[0m\u001b[0m\n",
            "\u001b[0;32m/usr/local/lib/python3.8/dist-packages/tensorflow/python/eager/def_function.py\u001b[0m in \u001b[0;36m__call__\u001b[0;34m(self, *args, **kwds)\u001b[0m\n\u001b[1;32m    913\u001b[0m \u001b[0;34m\u001b[0m\u001b[0m\n\u001b[1;32m    914\u001b[0m       \u001b[0;32mwith\u001b[0m \u001b[0mOptionalXlaContext\u001b[0m\u001b[0;34m(\u001b[0m\u001b[0mself\u001b[0m\u001b[0;34m.\u001b[0m\u001b[0m_jit_compile\u001b[0m\u001b[0;34m)\u001b[0m\u001b[0;34m:\u001b[0m\u001b[0;34m\u001b[0m\u001b[0;34m\u001b[0m\u001b[0m\n\u001b[0;32m--> 915\u001b[0;31m         \u001b[0mresult\u001b[0m \u001b[0;34m=\u001b[0m \u001b[0mself\u001b[0m\u001b[0;34m.\u001b[0m\u001b[0m_call\u001b[0m\u001b[0;34m(\u001b[0m\u001b[0;34m*\u001b[0m\u001b[0margs\u001b[0m\u001b[0;34m,\u001b[0m \u001b[0;34m**\u001b[0m\u001b[0mkwds\u001b[0m\u001b[0;34m)\u001b[0m\u001b[0;34m\u001b[0m\u001b[0;34m\u001b[0m\u001b[0m\n\u001b[0m\u001b[1;32m    916\u001b[0m \u001b[0;34m\u001b[0m\u001b[0m\n\u001b[1;32m    917\u001b[0m       \u001b[0mnew_tracing_count\u001b[0m \u001b[0;34m=\u001b[0m \u001b[0mself\u001b[0m\u001b[0;34m.\u001b[0m\u001b[0mexperimental_get_tracing_count\u001b[0m\u001b[0;34m(\u001b[0m\u001b[0;34m)\u001b[0m\u001b[0;34m\u001b[0m\u001b[0;34m\u001b[0m\u001b[0m\n",
            "\u001b[0;32m/usr/local/lib/python3.8/dist-packages/tensorflow/python/eager/def_function.py\u001b[0m in \u001b[0;36m_call\u001b[0;34m(self, *args, **kwds)\u001b[0m\n\u001b[1;32m    952\u001b[0m       \u001b[0;31m# In this case we have not created variables on the first call. So we can\u001b[0m\u001b[0;34m\u001b[0m\u001b[0;34m\u001b[0m\u001b[0;34m\u001b[0m\u001b[0m\n\u001b[1;32m    953\u001b[0m       \u001b[0;31m# run the first trace but we should fail if variables are created.\u001b[0m\u001b[0;34m\u001b[0m\u001b[0;34m\u001b[0m\u001b[0;34m\u001b[0m\u001b[0m\n\u001b[0;32m--> 954\u001b[0;31m       \u001b[0mresults\u001b[0m \u001b[0;34m=\u001b[0m \u001b[0mself\u001b[0m\u001b[0;34m.\u001b[0m\u001b[0m_stateful_fn\u001b[0m\u001b[0;34m(\u001b[0m\u001b[0;34m*\u001b[0m\u001b[0margs\u001b[0m\u001b[0;34m,\u001b[0m \u001b[0;34m**\u001b[0m\u001b[0mkwds\u001b[0m\u001b[0;34m)\u001b[0m\u001b[0;34m\u001b[0m\u001b[0;34m\u001b[0m\u001b[0m\n\u001b[0m\u001b[1;32m    955\u001b[0m       \u001b[0;32mif\u001b[0m \u001b[0mself\u001b[0m\u001b[0;34m.\u001b[0m\u001b[0m_created_variables\u001b[0m \u001b[0;32mand\u001b[0m \u001b[0;32mnot\u001b[0m \u001b[0mALLOW_DYNAMIC_VARIABLE_CREATION\u001b[0m\u001b[0;34m:\u001b[0m\u001b[0;34m\u001b[0m\u001b[0;34m\u001b[0m\u001b[0m\n\u001b[1;32m    956\u001b[0m         raise ValueError(\"Creating variables on a non-first call to a function\"\n",
            "\u001b[0;32m/usr/local/lib/python3.8/dist-packages/tensorflow/python/eager/function.py\u001b[0m in \u001b[0;36m__call__\u001b[0;34m(self, *args, **kwargs)\u001b[0m\n\u001b[1;32m   2451\u001b[0m       (graph_function,\n\u001b[1;32m   2452\u001b[0m        filtered_flat_args) = self._maybe_define_function(args, kwargs)\n\u001b[0;32m-> 2453\u001b[0;31m     return graph_function._call_flat(\n\u001b[0m\u001b[1;32m   2454\u001b[0m         filtered_flat_args, captured_inputs=graph_function.captured_inputs)  # pylint: disable=protected-access\n\u001b[1;32m   2455\u001b[0m \u001b[0;34m\u001b[0m\u001b[0m\n",
            "\u001b[0;32m/usr/local/lib/python3.8/dist-packages/tensorflow/python/eager/function.py\u001b[0m in \u001b[0;36m_call_flat\u001b[0;34m(self, args, captured_inputs, cancellation_manager)\u001b[0m\n\u001b[1;32m   1858\u001b[0m         and executing_eagerly):\n\u001b[1;32m   1859\u001b[0m       \u001b[0;31m# No tape is watching; skip to running the function.\u001b[0m\u001b[0;34m\u001b[0m\u001b[0;34m\u001b[0m\u001b[0;34m\u001b[0m\u001b[0m\n\u001b[0;32m-> 1860\u001b[0;31m       return self._build_call_outputs(self._inference_function.call(\n\u001b[0m\u001b[1;32m   1861\u001b[0m           ctx, args, cancellation_manager=cancellation_manager))\n\u001b[1;32m   1862\u001b[0m     forward_backward = self._select_forward_and_backward_functions(\n",
            "\u001b[0;32m/usr/local/lib/python3.8/dist-packages/tensorflow/python/eager/function.py\u001b[0m in \u001b[0;36mcall\u001b[0;34m(self, ctx, args, cancellation_manager)\u001b[0m\n\u001b[1;32m    495\u001b[0m       \u001b[0;32mwith\u001b[0m \u001b[0m_InterpolateFunctionError\u001b[0m\u001b[0;34m(\u001b[0m\u001b[0mself\u001b[0m\u001b[0;34m)\u001b[0m\u001b[0;34m:\u001b[0m\u001b[0;34m\u001b[0m\u001b[0;34m\u001b[0m\u001b[0m\n\u001b[1;32m    496\u001b[0m         \u001b[0;32mif\u001b[0m \u001b[0mcancellation_manager\u001b[0m \u001b[0;32mis\u001b[0m \u001b[0;32mNone\u001b[0m\u001b[0;34m:\u001b[0m\u001b[0;34m\u001b[0m\u001b[0;34m\u001b[0m\u001b[0m\n\u001b[0;32m--> 497\u001b[0;31m           outputs = execute.execute(\n\u001b[0m\u001b[1;32m    498\u001b[0m               \u001b[0mstr\u001b[0m\u001b[0;34m(\u001b[0m\u001b[0mself\u001b[0m\u001b[0;34m.\u001b[0m\u001b[0msignature\u001b[0m\u001b[0;34m.\u001b[0m\u001b[0mname\u001b[0m\u001b[0;34m)\u001b[0m\u001b[0;34m,\u001b[0m\u001b[0;34m\u001b[0m\u001b[0;34m\u001b[0m\u001b[0m\n\u001b[1;32m    499\u001b[0m               \u001b[0mnum_outputs\u001b[0m\u001b[0;34m=\u001b[0m\u001b[0mself\u001b[0m\u001b[0;34m.\u001b[0m\u001b[0m_num_outputs\u001b[0m\u001b[0;34m,\u001b[0m\u001b[0;34m\u001b[0m\u001b[0;34m\u001b[0m\u001b[0m\n",
            "\u001b[0;32m/usr/local/lib/python3.8/dist-packages/tensorflow/python/eager/execute.py\u001b[0m in \u001b[0;36mquick_execute\u001b[0;34m(op_name, num_outputs, inputs, attrs, ctx, name)\u001b[0m\n\u001b[1;32m     52\u001b[0m   \u001b[0;32mtry\u001b[0m\u001b[0;34m:\u001b[0m\u001b[0;34m\u001b[0m\u001b[0;34m\u001b[0m\u001b[0m\n\u001b[1;32m     53\u001b[0m     \u001b[0mctx\u001b[0m\u001b[0;34m.\u001b[0m\u001b[0mensure_initialized\u001b[0m\u001b[0;34m(\u001b[0m\u001b[0;34m)\u001b[0m\u001b[0;34m\u001b[0m\u001b[0;34m\u001b[0m\u001b[0m\n\u001b[0;32m---> 54\u001b[0;31m     tensors = pywrap_tfe.TFE_Py_Execute(ctx._handle, device_name, op_name,\n\u001b[0m\u001b[1;32m     55\u001b[0m                                         inputs, attrs, num_outputs)\n\u001b[1;32m     56\u001b[0m   \u001b[0;32mexcept\u001b[0m \u001b[0mcore\u001b[0m\u001b[0;34m.\u001b[0m\u001b[0m_NotOkStatusException\u001b[0m \u001b[0;32mas\u001b[0m \u001b[0me\u001b[0m\u001b[0;34m:\u001b[0m\u001b[0;34m\u001b[0m\u001b[0;34m\u001b[0m\u001b[0m\n",
            "\u001b[0;31mKeyboardInterrupt\u001b[0m: "
          ]
        }
      ],
      "source": [
        "#predictions = model.predict(X)"
      ]
    },
    {
      "cell_type": "markdown",
      "source": [
        "I"
      ],
      "metadata": {
        "id": "BV3XHal_JdsM"
      },
      "id": "BV3XHal_JdsM"
    },
    {
      "cell_type": "markdown",
      "source": [
        "## Model 2\n"
      ],
      "metadata": {
        "id": "DKsWvzt6i6w6"
      },
      "id": "DKsWvzt6i6w6"
    },
    {
      "cell_type": "code",
      "source": [
        "df_max_scaled = X.copy()\n",
        "numeric_feature_names = [\"Customers\", \"CompetitionDistance\"]\n",
        "# apply normalization techniques on Column 1\n",
        "df_max_scaled[numeric_feature_names] = df_max_scaled[numeric_feature_names] /df_max_scaled[numeric_feature_names].abs().max()"
      ],
      "metadata": {
        "id": "Hp4U2zA0kkuA"
      },
      "id": "Hp4U2zA0kkuA",
      "execution_count": null,
      "outputs": []
    },
    {
      "cell_type": "code",
      "source": [
        "X_train, X_test, y_train, y_test = train_test_split(df_max_scaled, y, test_size=0.2, random_state=42)\n",
        "print(\"Xtrain: \", X_train.shape, \"X_test\", X_test.shape, \"y_train\", y_train.shape)"
      ],
      "metadata": {
        "colab": {
          "base_uri": "https://localhost:8080/"
        },
        "id": "GfTCka7DkFxe",
        "outputId": "8ecfb876-9266-4ea3-edf7-667105baf060"
      },
      "id": "GfTCka7DkFxe",
      "execution_count": null,
      "outputs": [
        {
          "output_type": "stream",
          "name": "stdout",
          "text": [
            "Xtrain:  (813767, 29) X_test (203442, 29) y_train (813767,)\n"
          ]
        }
      ]
    },
    {
      "cell_type": "code",
      "source": [
        "model = Sequential()\n",
        "\n",
        "# first hidden layer\n",
        "model.add(Dense(40, input_shape=(29,), kernel_initializer='normal', activation='relu')) \n",
        "\n",
        "# hidden layers - 4\n",
        "model.add(Dense(80, kernel_initializer='normal', activation='relu'))\n",
        "model.add(Dense(80, kernel_initializer='normal', activation='relu'))\n",
        "model.add(Dense(80, kernel_initializer='normal', activation='relu'))\n",
        "#output layer layer\n",
        "model.add(Dense(1, kernel_initializer='normal', activation = 'linear'))\n",
        "# compile\n",
        "model.compile(optimizer='adam', loss='mse',metrics=[tf.keras.metrics.RootMeanSquaredError()])\n",
        "\n",
        "\n",
        "\n",
        "\n",
        "# fit\n",
        "\n",
        "model.fit(X_train, y_train, epochs=500, batch_size = 32, validation_split = 0.2)\n",
        "# evaulate\n",
        "loss, rmse = model.evaluate(X_test, y_test)\n",
        "print('Rmse', rmse, 'Loss', loss)"
      ],
      "metadata": {
        "colab": {
          "base_uri": "https://localhost:8080/"
        },
        "id": "ALOZCFKci9qL",
        "outputId": "df8d74ae-cfc9-40b1-f719-fee1033e4a2b"
      },
      "id": "ALOZCFKci9qL",
      "execution_count": null,
      "outputs": [
        {
          "output_type": "stream",
          "name": "stdout",
          "text": [
            "Epoch 1/500\n",
            "20345/20345 [==============================] - 72s 3ms/step - loss: 6339375.5000 - root_mean_squared_error: 2517.8118 - val_loss: 3020447.0000 - val_root_mean_squared_error: 1737.9434\n",
            "Epoch 2/500\n",
            "20345/20345 [==============================] - 69s 3ms/step - loss: 2253834.0000 - root_mean_squared_error: 1501.2775 - val_loss: 1493773.3750 - val_root_mean_squared_error: 1222.2002\n",
            "Epoch 3/500\n",
            "20345/20345 [==============================] - 62s 3ms/step - loss: 1984569.2500 - root_mean_squared_error: 1408.7474 - val_loss: 1763959.5000 - val_root_mean_squared_error: 1328.1414\n",
            "Epoch 4/500\n",
            "20345/20345 [==============================] - 67s 3ms/step - loss: 1822757.7500 - root_mean_squared_error: 1350.0955 - val_loss: 1514869.2500 - val_root_mean_squared_error: 1230.8003\n",
            "Epoch 5/500\n",
            "20345/20345 [==============================] - 63s 3ms/step - loss: 1743180.2500 - root_mean_squared_error: 1320.2955 - val_loss: 2555275.7500 - val_root_mean_squared_error: 1598.5229\n",
            "Epoch 6/500\n",
            "20345/20345 [==============================] - 67s 3ms/step - loss: 1690864.1250 - root_mean_squared_error: 1300.3323 - val_loss: 1565620.3750 - val_root_mean_squared_error: 1251.2476\n",
            "Epoch 7/500\n",
            "20345/20345 [==============================] - 69s 3ms/step - loss: 1660894.5000 - root_mean_squared_error: 1288.7570 - val_loss: 1705707.7500 - val_root_mean_squared_error: 1306.0275\n",
            "Epoch 8/500\n",
            "20345/20345 [==============================] - 63s 3ms/step - loss: 1592901.6250 - root_mean_squared_error: 1262.1021 - val_loss: 1414763.6250 - val_root_mean_squared_error: 1189.4384\n",
            "Epoch 9/500\n",
            "20345/20345 [==============================] - 67s 3ms/step - loss: 1547179.3750 - root_mean_squared_error: 1243.8567 - val_loss: 1412802.5000 - val_root_mean_squared_error: 1188.6136\n",
            "Epoch 10/500\n",
            "20345/20345 [==============================] - 63s 3ms/step - loss: 1515851.3750 - root_mean_squared_error: 1231.1992 - val_loss: 1864648.6250 - val_root_mean_squared_error: 1365.5214\n",
            "Epoch 11/500\n",
            "20345/20345 [==============================] - 65s 3ms/step - loss: 1477096.0000 - root_mean_squared_error: 1215.3584 - val_loss: 1255896.0000 - val_root_mean_squared_error: 1120.6676\n",
            "Epoch 12/500\n",
            "20345/20345 [==============================] - 68s 3ms/step - loss: 1466373.0000 - root_mean_squared_error: 1210.9388 - val_loss: 1990150.3750 - val_root_mean_squared_error: 1410.7269\n",
            "Epoch 13/500\n",
            "20345/20345 [==============================] - 67s 3ms/step - loss: 1444445.5000 - root_mean_squared_error: 1201.8508 - val_loss: 1249847.1250 - val_root_mean_squared_error: 1117.9656\n",
            "Epoch 14/500\n",
            "20345/20345 [==============================] - 68s 3ms/step - loss: 1411555.3750 - root_mean_squared_error: 1188.0890 - val_loss: 1309445.0000 - val_root_mean_squared_error: 1144.3098\n",
            "Epoch 15/500\n",
            "20345/20345 [==============================] - 68s 3ms/step - loss: 1395413.7500 - root_mean_squared_error: 1181.2764 - val_loss: 1122864.5000 - val_root_mean_squared_error: 1059.6530\n",
            "Epoch 16/500\n",
            "20345/20345 [==============================] - 67s 3ms/step - loss: 1381004.7500 - root_mean_squared_error: 1175.1616 - val_loss: 1419951.0000 - val_root_mean_squared_error: 1191.6169\n",
            "Epoch 17/500\n",
            "20345/20345 [==============================] - 64s 3ms/step - loss: 1372734.5000 - root_mean_squared_error: 1171.6376 - val_loss: 1109478.2500 - val_root_mean_squared_error: 1053.3177\n",
            "Epoch 18/500\n",
            "20345/20345 [==============================] - 69s 3ms/step - loss: 1364397.8750 - root_mean_squared_error: 1168.0745 - val_loss: 1267848.6250 - val_root_mean_squared_error: 1125.9878\n",
            "Epoch 19/500\n",
            "20345/20345 [==============================] - 70s 3ms/step - loss: 1349881.5000 - root_mean_squared_error: 1161.8440 - val_loss: 1094359.0000 - val_root_mean_squared_error: 1046.1162\n",
            "Epoch 20/500\n",
            "20345/20345 [==============================] - 68s 3ms/step - loss: 1334522.6250 - root_mean_squared_error: 1155.2155 - val_loss: 1487768.5000 - val_root_mean_squared_error: 1219.7412\n",
            "Epoch 21/500\n",
            "20345/20345 [==============================] - 63s 3ms/step - loss: 1330771.3750 - root_mean_squared_error: 1153.5907 - val_loss: 1166882.6250 - val_root_mean_squared_error: 1080.2234\n",
            "Epoch 22/500\n",
            "20345/20345 [==============================] - 63s 3ms/step - loss: 1331675.2500 - root_mean_squared_error: 1153.9823 - val_loss: 1443225.7500 - val_root_mean_squared_error: 1201.3433\n",
            "Epoch 23/500\n",
            "20345/20345 [==============================] - 68s 3ms/step - loss: 1318834.3750 - root_mean_squared_error: 1148.4052 - val_loss: 1094447.1250 - val_root_mean_squared_error: 1046.1583\n",
            "Epoch 24/500\n",
            "20345/20345 [==============================] - 63s 3ms/step - loss: 1303467.2500 - root_mean_squared_error: 1141.6949 - val_loss: 1087560.2500 - val_root_mean_squared_error: 1042.8616\n",
            "Epoch 25/500\n",
            "20345/20345 [==============================] - 63s 3ms/step - loss: 1300020.6250 - root_mean_squared_error: 1140.1844 - val_loss: 1161748.0000 - val_root_mean_squared_error: 1077.8441\n",
            "Epoch 26/500\n",
            "20345/20345 [==============================] - 63s 3ms/step - loss: 1285040.1250 - root_mean_squared_error: 1133.5961 - val_loss: 1071988.8750 - val_root_mean_squared_error: 1035.3689\n",
            "Epoch 27/500\n",
            "20345/20345 [==============================] - 67s 3ms/step - loss: 1281598.8750 - root_mean_squared_error: 1132.0773 - val_loss: 1086225.7500 - val_root_mean_squared_error: 1042.2216\n",
            "Epoch 28/500\n",
            "20345/20345 [==============================] - 65s 3ms/step - loss: 1263750.7500 - root_mean_squared_error: 1124.1667 - val_loss: 1156533.1250 - val_root_mean_squared_error: 1075.4222\n",
            "Epoch 29/500\n",
            "20345/20345 [==============================] - 67s 3ms/step - loss: 1263576.0000 - root_mean_squared_error: 1124.0890 - val_loss: 1219011.0000 - val_root_mean_squared_error: 1104.0883\n",
            "Epoch 30/500\n",
            "20345/20345 [==============================] - 63s 3ms/step - loss: 1263604.1250 - root_mean_squared_error: 1124.1014 - val_loss: 1606374.1250 - val_root_mean_squared_error: 1267.4281\n",
            "Epoch 31/500\n",
            "20345/20345 [==============================] - 67s 3ms/step - loss: 1254173.8750 - root_mean_squared_error: 1119.8990 - val_loss: 1164012.5000 - val_root_mean_squared_error: 1078.8942\n",
            "Epoch 32/500\n",
            "20345/20345 [==============================] - 71s 4ms/step - loss: 1253027.3750 - root_mean_squared_error: 1119.3871 - val_loss: 1241514.6250 - val_root_mean_squared_error: 1114.2328\n",
            "Epoch 33/500\n",
            "20345/20345 [==============================] - 66s 3ms/step - loss: 1245564.8750 - root_mean_squared_error: 1116.0488 - val_loss: 1297506.1250 - val_root_mean_squared_error: 1139.0813\n",
            "Epoch 34/500\n",
            "20345/20345 [==============================] - 69s 3ms/step - loss: 1240551.8750 - root_mean_squared_error: 1113.8007 - val_loss: 1124886.8750 - val_root_mean_squared_error: 1060.6068\n",
            "Epoch 35/500\n",
            "20345/20345 [==============================] - 67s 3ms/step - loss: 1232140.0000 - root_mean_squared_error: 1110.0181 - val_loss: 1137175.8750 - val_root_mean_squared_error: 1066.3845\n",
            "Epoch 36/500\n",
            "20345/20345 [==============================] - 70s 3ms/step - loss: 1229464.1250 - root_mean_squared_error: 1108.8120 - val_loss: 1828536.1250 - val_root_mean_squared_error: 1352.2338\n",
            "Epoch 37/500\n",
            "20345/20345 [==============================] - 67s 3ms/step - loss: 1220318.5000 - root_mean_squared_error: 1104.6803 - val_loss: 1156485.3750 - val_root_mean_squared_error: 1075.4001\n",
            "Epoch 38/500\n",
            "20345/20345 [==============================] - 67s 3ms/step - loss: 1223977.1250 - root_mean_squared_error: 1106.3350 - val_loss: 1307216.8750 - val_root_mean_squared_error: 1143.3358\n",
            "Epoch 39/500\n",
            "20345/20345 [==============================] - 69s 3ms/step - loss: 1218858.1250 - root_mean_squared_error: 1104.0190 - val_loss: 2664510.0000 - val_root_mean_squared_error: 1632.3326\n",
            "Epoch 40/500\n",
            "20345/20345 [==============================] - 65s 3ms/step - loss: 1210297.7500 - root_mean_squared_error: 1100.1354 - val_loss: 1652398.1250 - val_root_mean_squared_error: 1285.4564\n",
            "Epoch 41/500\n",
            "20345/20345 [==============================] - 69s 3ms/step - loss: 1206463.6250 - root_mean_squared_error: 1098.3914 - val_loss: 1049082.7500 - val_root_mean_squared_error: 1024.2474\n",
            "Epoch 42/500\n",
            "20345/20345 [==============================] - 67s 3ms/step - loss: 1205360.5000 - root_mean_squared_error: 1097.8892 - val_loss: 1033471.5000 - val_root_mean_squared_error: 1016.5980\n",
            "Epoch 43/500\n",
            "20345/20345 [==============================] - 64s 3ms/step - loss: 1196929.6250 - root_mean_squared_error: 1094.0428 - val_loss: 1179073.5000 - val_root_mean_squared_error: 1085.8516\n",
            "Epoch 44/500\n",
            "20345/20345 [==============================] - 67s 3ms/step - loss: 1197936.1250 - root_mean_squared_error: 1094.5027 - val_loss: 1115953.7500 - val_root_mean_squared_error: 1056.3871\n",
            "Epoch 45/500\n",
            "20345/20345 [==============================] - 68s 3ms/step - loss: 1191315.2500 - root_mean_squared_error: 1091.4739 - val_loss: 1166326.5000 - val_root_mean_squared_error: 1079.9659\n",
            "Epoch 46/500\n",
            "20345/20345 [==============================] - 70s 3ms/step - loss: 1189904.2500 - root_mean_squared_error: 1090.8273 - val_loss: 1179838.0000 - val_root_mean_squared_error: 1086.2035\n",
            "Epoch 47/500\n",
            "20345/20345 [==============================] - 62s 3ms/step - loss: 1187840.8750 - root_mean_squared_error: 1089.8811 - val_loss: 1137726.5000 - val_root_mean_squared_error: 1066.6426\n",
            "Epoch 48/500\n",
            "20345/20345 [==============================] - 66s 3ms/step - loss: 1178842.7500 - root_mean_squared_error: 1085.7452 - val_loss: 1032627.3125 - val_root_mean_squared_error: 1016.1827\n",
            "Epoch 49/500\n",
            "20345/20345 [==============================] - 63s 3ms/step - loss: 1182984.6250 - root_mean_squared_error: 1087.6510 - val_loss: 1050348.5000 - val_root_mean_squared_error: 1024.8651\n",
            "Epoch 50/500\n",
            "20345/20345 [==============================] - 62s 3ms/step - loss: 1171385.5000 - root_mean_squared_error: 1082.3057 - val_loss: 1167947.0000 - val_root_mean_squared_error: 1080.7159\n",
            "Epoch 51/500\n",
            "20345/20345 [==============================] - 68s 3ms/step - loss: 1172650.8750 - root_mean_squared_error: 1082.8900 - val_loss: 1298593.2500 - val_root_mean_squared_error: 1139.5583\n",
            "Epoch 52/500\n",
            "20345/20345 [==============================] - 66s 3ms/step - loss: 1169334.2500 - root_mean_squared_error: 1081.3575 - val_loss: 1404534.1250 - val_root_mean_squared_error: 1185.1304\n",
            "Epoch 53/500\n",
            "20345/20345 [==============================] - 64s 3ms/step - loss: 1175528.6250 - root_mean_squared_error: 1084.2180 - val_loss: 1077344.3750 - val_root_mean_squared_error: 1037.9520\n",
            "Epoch 54/500\n",
            "20345/20345 [==============================] - 64s 3ms/step - loss: 1169672.3750 - root_mean_squared_error: 1081.5139 - val_loss: 1150597.5000 - val_root_mean_squared_error: 1072.6591\n",
            "Epoch 55/500\n",
            "20345/20345 [==============================] - 62s 3ms/step - loss: 1163500.1250 - root_mean_squared_error: 1078.6566 - val_loss: 1061350.5000 - val_root_mean_squared_error: 1030.2186\n",
            "Epoch 56/500\n",
            "20345/20345 [==============================] - 69s 3ms/step - loss: 1160305.3750 - root_mean_squared_error: 1077.1747 - val_loss: 1169442.5000 - val_root_mean_squared_error: 1081.4076\n",
            "Epoch 57/500\n",
            "20345/20345 [==============================] - 66s 3ms/step - loss: 1159784.7500 - root_mean_squared_error: 1076.9330 - val_loss: 1057532.1250 - val_root_mean_squared_error: 1028.3638\n",
            "Epoch 58/500\n",
            "20345/20345 [==============================] - 64s 3ms/step - loss: 1157846.7500 - root_mean_squared_error: 1076.0328 - val_loss: 990834.1875 - val_root_mean_squared_error: 995.4066\n",
            "Epoch 59/500\n",
            "20345/20345 [==============================] - 64s 3ms/step - loss: 1149610.6250 - root_mean_squared_error: 1072.1990 - val_loss: 1509367.3750 - val_root_mean_squared_error: 1228.5631\n",
            "Epoch 60/500\n",
            "20345/20345 [==============================] - 64s 3ms/step - loss: 1154198.8750 - root_mean_squared_error: 1074.3364 - val_loss: 1095198.8750 - val_root_mean_squared_error: 1046.5175\n",
            "Epoch 61/500\n",
            "20345/20345 [==============================] - 70s 3ms/step - loss: 1146902.5000 - root_mean_squared_error: 1070.9353 - val_loss: 1172508.5000 - val_root_mean_squared_error: 1082.8243\n",
            "Epoch 62/500\n",
            "20345/20345 [==============================] - 69s 3ms/step - loss: 1145617.8750 - root_mean_squared_error: 1070.3354 - val_loss: 1343873.1250 - val_root_mean_squared_error: 1159.2554\n",
            "Epoch 63/500\n",
            "20345/20345 [==============================] - 64s 3ms/step - loss: 1144407.1250 - root_mean_squared_error: 1069.7697 - val_loss: 1494489.8750 - val_root_mean_squared_error: 1222.4933\n",
            "Epoch 64/500\n",
            "20345/20345 [==============================] - 66s 3ms/step - loss: 1142560.8750 - root_mean_squared_error: 1068.9064 - val_loss: 1463622.1250 - val_root_mean_squared_error: 1209.8025\n",
            "Epoch 65/500\n",
            "20345/20345 [==============================] - 63s 3ms/step - loss: 1136252.3750 - root_mean_squared_error: 1065.9514 - val_loss: 1039723.7500 - val_root_mean_squared_error: 1019.6685\n",
            "Epoch 66/500\n",
            "20345/20345 [==============================] - 68s 3ms/step - loss: 1133158.3750 - root_mean_squared_error: 1064.4991 - val_loss: 1142151.5000 - val_root_mean_squared_error: 1068.7148\n",
            "Epoch 67/500\n",
            "20345/20345 [==============================] - 63s 3ms/step - loss: 1145311.6250 - root_mean_squared_error: 1070.1924 - val_loss: 1094968.7500 - val_root_mean_squared_error: 1046.4076\n",
            "Epoch 68/500\n",
            "20345/20345 [==============================] - 65s 3ms/step - loss: 1144400.6250 - root_mean_squared_error: 1069.7666 - val_loss: 1003739.3750 - val_root_mean_squared_error: 1001.8679\n",
            "Epoch 69/500\n",
            "20345/20345 [==============================] - 64s 3ms/step - loss: 1134373.2500 - root_mean_squared_error: 1065.0696 - val_loss: 1053461.1250 - val_root_mean_squared_error: 1026.3826\n",
            "Epoch 70/500\n",
            "20345/20345 [==============================] - 67s 3ms/step - loss: 1132278.2500 - root_mean_squared_error: 1064.0857 - val_loss: 1045070.8750 - val_root_mean_squared_error: 1022.2871\n",
            "Epoch 71/500\n",
            "20345/20345 [==============================] - 66s 3ms/step - loss: 1131135.1250 - root_mean_squared_error: 1063.5483 - val_loss: 1014755.6250 - val_root_mean_squared_error: 1007.3508\n",
            "Epoch 72/500\n",
            "20345/20345 [==============================] - 64s 3ms/step - loss: 1125604.2500 - root_mean_squared_error: 1060.9449 - val_loss: 1248955.7500 - val_root_mean_squared_error: 1117.5669\n",
            "Epoch 73/500\n",
            "20345/20345 [==============================] - 69s 3ms/step - loss: 1128505.5000 - root_mean_squared_error: 1062.3114 - val_loss: 1016800.0000 - val_root_mean_squared_error: 1008.3650\n",
            "Epoch 74/500\n",
            "20345/20345 [==============================] - 71s 3ms/step - loss: 1127964.1250 - root_mean_squared_error: 1062.0565 - val_loss: 1061199.0000 - val_root_mean_squared_error: 1030.1451\n",
            "Epoch 75/500\n",
            "20345/20345 [==============================] - 66s 3ms/step - loss: 1124856.7500 - root_mean_squared_error: 1060.5927 - val_loss: 1012190.5000 - val_root_mean_squared_error: 1006.0768\n",
            "Epoch 76/500\n",
            "20345/20345 [==============================] - 69s 3ms/step - loss: 1120775.3750 - root_mean_squared_error: 1058.6667 - val_loss: 1029712.9375 - val_root_mean_squared_error: 1014.7477\n",
            "Epoch 77/500\n",
            "20345/20345 [==============================] - 66s 3ms/step - loss: 1119904.2500 - root_mean_squared_error: 1058.2552 - val_loss: 1021586.8750 - val_root_mean_squared_error: 1010.7358\n",
            "Epoch 78/500\n",
            "20343/20345 [============================>.] - ETA: 0s - loss: 1117385.1250 - root_mean_squared_error: 1057.0643"
          ]
        }
      ]
    }
  ],
  "metadata": {
    "kernelspec": {
      "display_name": "Python 3 (ipykernel)",
      "language": "python",
      "name": "python3"
    },
    "language_info": {
      "codemirror_mode": {
        "name": "ipython",
        "version": 3
      },
      "file_extension": ".py",
      "mimetype": "text/x-python",
      "name": "python",
      "nbconvert_exporter": "python",
      "pygments_lexer": "ipython3",
      "version": "3.8.13"
    },
    "colab": {
      "provenance": [],
      "collapsed_sections": [
        "UnYiwUsoJyDj",
        "uxEW-MrHKIB8",
        "dM6Ml-3EJbDc",
        "m1vIu9aEKOwz"
      ],
      "include_colab_link": true
    }
  },
  "nbformat": 4,
  "nbformat_minor": 5
}