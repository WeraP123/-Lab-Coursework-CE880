{
  "cells": [
    {
      "cell_type": "markdown",
      "metadata": {
        "id": "PkWJCwkWYNFl"
      },
      "source": [
        "Before you turn this problem in, make sure everything runs as expected. First, **restart the kernel** (in the menubar, select Kernel$\\rightarrow$Restart) and then **run all cells** (in the menubar, select Cell$\\rightarrow$Run All).\n",
        "\n",
        "Make sure you fill in any place that says `YOUR CODE HERE` or \"YOUR ANSWER HERE\", as well as your name and collaborators below:"
      ]
    },
    {
      "cell_type": "code",
      "execution_count": 1,
      "metadata": {
        "id": "0PmXad0YYNFu"
      },
      "outputs": [],
      "source": [
        "NAME = \"Weronika Pryciuk\"\n",
        "COLLABORATORS = \"Haider Raza\""
      ]
    },
    {
      "cell_type": "markdown",
      "metadata": {
        "id": "TypBez7vYNFw"
      },
      "source": [
        "---"
      ]
    },
    {
      "cell_type": "markdown",
      "metadata": {
        "id": "HXVadUAvYNFx"
      },
      "source": [
        "---\n",
        "# Welcome to CE880\n",
        "### This is your week-1 : Problem 1 notebook\n",
        "\n",
        "For this problem set, we'll be using the Jupyter notebook and please upload this notebook to [Google Colab](https://colab.research.google.com/). \n"
      ]
    },
    {
      "cell_type": "markdown",
      "metadata": {
        "id": "VqVQagJCYNFy"
      },
      "source": [
        "---\n",
        "## Question 1:\n",
        "\n",
        "Write a function for Pythagorean theorem, or Pythagoras' theorem. Pythagorean is a fundamental relation in Euclidean geometry among the three sides of a right triangle. It states that the area of the square whose side is the hypotenuse (the side opposite the right angle) is equal to the sum of the areas of the squares on the other two sides. This theorem can be written as an equation relating the lengths of the legs a, b and the hypotenuse c, often called the Pythagorean equation:\n",
        "\n",
        "$a^2 + b^2 = c^2$\n",
        "\n",
        "Please write a function (code)to calculate the length of an unknown side of a right triangle, given two sides are known."
      ]
    },
    {
      "cell_type": "code",
      "execution_count": 5,
      "metadata": {
        "deletable": false,
        "nbgrader": {
          "cell_type": "code",
          "checksum": "ac8011dd9c42cd6349c23a492d6bc678",
          "grade": false,
          "grade_id": "myPythagorean_ans",
          "locked": false,
          "schema_version": 3,
          "solution": true
        },
        "id": "A24jZKtIYNFz"
      },
      "outputs": [],
      "source": [
        "import math\n",
        "def myPythagorean(a,b):\n",
        "    \"\"\"write a function (code)to calculate the length of an unknown side \n",
        "    of a right triangle, given two sides are known.\n",
        "    \n",
        "    \n",
        "    \"\"\"\n",
        "    # YOUR CODE HERE\n",
        "    return math.sqrt((a**2 + b**2))\n",
        "    raise NotImplementedError()"
      ]
    },
    {
      "cell_type": "code",
      "execution_count": 11,
      "metadata": {
        "id": "qc2f8xLkYNF0",
        "outputId": "834e73c7-7ee8-4f04-b4d6-f8efdf4f8c00",
        "colab": {
          "base_uri": "https://localhost:8080/"
        }
      },
      "outputs": [
        {
          "output_type": "execute_result",
          "data": {
            "text/plain": [
              "5.0"
            ]
          },
          "metadata": {},
          "execution_count": 11
        }
      ],
      "source": [
        "myPythagorean(10,14)\n",
        "myPythagorean(3,4)"
      ]
    },
    {
      "cell_type": "code",
      "execution_count": 7,
      "metadata": {
        "deletable": false,
        "editable": false,
        "nbgrader": {
          "cell_type": "code",
          "checksum": "9f71b5fa4d6da21af0fe132b6b6c8b80",
          "grade": true,
          "grade_id": "myPythagorean_test",
          "locked": false,
          "points": 1,
          "schema_version": 3,
          "solution": false
        },
        "id": "3l0gHe2OYNF1",
        "outputId": "e5457dd3-0f0e-4dc3-8871-06a97fe46101",
        "colab": {
          "base_uri": "https://localhost:8080/",
          "height": 200
        }
      },
      "outputs": [
        {
          "output_type": "error",
          "ename": "AssertionError",
          "evalue": "ignored",
          "traceback": [
            "\u001b[0;31m---------------------------------------------------------------------------\u001b[0m",
            "\u001b[0;31mAssertionError\u001b[0m                            Traceback (most recent call last)",
            "\u001b[0;32m<ipython-input-7-12fd40baf9af>\u001b[0m in \u001b[0;36m<module>\u001b[0;34m\u001b[0m\n\u001b[1;32m      1\u001b[0m \u001b[0;34m\"\"\"Check that squares returns the correct output for several inputs\"\"\"\u001b[0m\u001b[0;34m\u001b[0m\u001b[0;34m\u001b[0m\u001b[0m\n\u001b[0;32m----> 2\u001b[0;31m \u001b[0;32massert\u001b[0m \u001b[0mmyPythagorean\u001b[0m\u001b[0;34m(\u001b[0m\u001b[0;36m3\u001b[0m\u001b[0;34m,\u001b[0m\u001b[0;36m2\u001b[0m\u001b[0;34m)\u001b[0m \u001b[0;34m==\u001b[0m \u001b[0;36m6.0\u001b[0m\u001b[0;34m\u001b[0m\u001b[0;34m\u001b[0m\u001b[0m\n\u001b[0m\u001b[1;32m      3\u001b[0m \u001b[0;32massert\u001b[0m \u001b[0mmyPythagorean\u001b[0m\u001b[0;34m(\u001b[0m\u001b[0;36m7\u001b[0m\u001b[0;34m,\u001b[0m\u001b[0;36m3\u001b[0m\u001b[0;34m)\u001b[0m \u001b[0;34m==\u001b[0m \u001b[0;36m21.0\u001b[0m\u001b[0;34m\u001b[0m\u001b[0;34m\u001b[0m\u001b[0m\n",
            "\u001b[0;31mAssertionError\u001b[0m: "
          ]
        }
      ],
      "source": [
        "\"\"\"Check that squares returns the correct output for several inputs\"\"\"\n",
        "assert myPythagorean(3,2) == 6.0\n",
        "assert myPythagorean(7,3) == 21.0"
      ]
    },
    {
      "cell_type": "markdown",
      "metadata": {
        "id": "YDuuvCw4YNF2"
      },
      "source": [
        "---\n",
        "\n",
        "## Question 2:\n",
        "\n",
        "A `trapezoid` is a quadrilateral with two sides parallel. The `trapezoid` is equivalent to the British definition of the `trapezium`. An isosceles `trapezoid` is a `trapezoid` in which the base angles are equal so\n",
        "\n",
        "<img src=\"https://www.w3resource.com/w3r_images/python-math-image-exercise-3.svg\"\n",
        "     alt=\"Markdown Monster icon\"\n",
        "     style=\"float: left; margin-right: 10px;\" />\n",
        "     \n",
        "Please write a function (code)to calculate the area of trapezoid."
      ]
    },
    {
      "cell_type": "code",
      "execution_count": 8,
      "metadata": {
        "deletable": false,
        "nbgrader": {
          "cell_type": "code",
          "checksum": "0b5eb16a2aa5919b3bd20fa36c29d3c3",
          "grade": false,
          "grade_id": "areaofTrap_ans",
          "locked": false,
          "schema_version": 3,
          "solution": true
        },
        "id": "35eG-apqYNF3"
      },
      "outputs": [],
      "source": [
        "def areaofTrap(base1, base2, height):\n",
        "    \"\"\"Compute the sum of the squares of numbers from 1 to n.\"\"\"\n",
        "    # YOUR CODE HERE\n",
        "    return 0.5 * height * (base1 + base2)\n",
        "    raise NotImplementedError()"
      ]
    },
    {
      "cell_type": "code",
      "execution_count": 9,
      "metadata": {
        "id": "pbherGjoYNF4",
        "outputId": "f2628456-4266-4cdc-e537-3b86f2dcdbda",
        "colab": {
          "base_uri": "https://localhost:8080/"
        }
      },
      "outputs": [
        {
          "output_type": "execute_result",
          "data": {
            "text/plain": [
              "200.0"
            ]
          },
          "metadata": {},
          "execution_count": 9
        }
      ],
      "source": [
        "areaofTrap(5, 3, 6)\n",
        "areaofTrap(10, 10, 20)"
      ]
    },
    {
      "cell_type": "code",
      "execution_count": 10,
      "metadata": {
        "deletable": false,
        "editable": false,
        "nbgrader": {
          "cell_type": "code",
          "checksum": "3b0bce7375a4cbc8a7a05c7968f99113",
          "grade": true,
          "grade_id": "areaofTrap_test",
          "locked": false,
          "points": 1,
          "schema_version": 3,
          "solution": false
        },
        "id": "XxrSlZZ-YNF5"
      },
      "outputs": [],
      "source": [
        "\"\"\"Check that areaofTrap returns the correct answer for various inputs.\"\"\"\n",
        "assert areaofTrap(10, 10, 20) == 200.0\n",
        "assert areaofTrap(5, 10, 20) == 150.0\n",
        "assert areaofTrap(5, 3, 5) == 20.0"
      ]
    },
    {
      "cell_type": "markdown",
      "metadata": {
        "id": "MqDpKLuyYNF5"
      },
      "source": [
        "---\n",
        "## Question 3: \n",
        "\n",
        " Write a Python program to reverse a string. Example: Sample String: `1234xyz` Expected Output: `zyx4321`"
      ]
    },
    {
      "cell_type": "code",
      "execution_count": 12,
      "metadata": {
        "deletable": false,
        "nbgrader": {
          "cell_type": "code",
          "checksum": "98cb7a38e7c264c61d0ff0332d879772",
          "grade": false,
          "grade_id": "reversestring_ans",
          "locked": false,
          "schema_version": 3,
          "solution": true,
          "task": false
        },
        "id": "XXY42xwOYNF6"
      },
      "outputs": [],
      "source": [
        "def reverse_string(str1):\n",
        "    \"\"\"Write your code here to reverse the string\"\"\"\n",
        "    \n",
        "    # YOUR CODE HERE\n",
        "    return str1[::-1]\n",
        "    raise NotImplementedError()"
      ]
    },
    {
      "cell_type": "code",
      "execution_count": 13,
      "metadata": {
        "id": "rcQfcX_-YNF6",
        "outputId": "11ecf0f2-2b8e-4525-e312-b44e4a79658e",
        "colab": {
          "base_uri": "https://localhost:8080/",
          "height": 35
        }
      },
      "outputs": [
        {
          "output_type": "execute_result",
          "data": {
            "text/plain": [
              "'088EC'"
            ],
            "application/vnd.google.colaboratory.intrinsic+json": {
              "type": "string"
            }
          },
          "metadata": {},
          "execution_count": 13
        }
      ],
      "source": [
        "reverse_string('CE880')"
      ]
    },
    {
      "cell_type": "code",
      "execution_count": 14,
      "metadata": {
        "deletable": false,
        "editable": false,
        "nbgrader": {
          "cell_type": "code",
          "checksum": "219d61397ee1726d142cbd4348b06da3",
          "grade": true,
          "grade_id": "reversestring_test",
          "locked": true,
          "points": 1,
          "schema_version": 3,
          "solution": false,
          "task": false
        },
        "id": "YF4GRWNhYNF6"
      },
      "outputs": [],
      "source": [
        "\"\"\"Check that areaofTrap returns the correct answer for various inputs.\"\"\"\n",
        "assert reverse_string('Colchester') == 'retsehcloC'\n",
        "assert reverse_string('University') == 'ytisrevinU'\n",
        "assert reverse_string('Data Science') == 'ecneicS ataD'\n",
        "assert reverse_string('CE880') == '088EC'"
      ]
    },
    {
      "cell_type": "markdown",
      "metadata": {
        "id": "1ZRnwkKDYNF7"
      },
      "source": [
        "## Question 4:\n",
        "Write a Python program to print the odd numbers from a given list and in ascending order.\n",
        "\n",
        "Sample List : `[1, 2, 3, 4, 6, 7, 8, 9]` Expected Result : `[1, 2, 5, 9]`"
      ]
    },
    {
      "cell_type": "code",
      "execution_count": 15,
      "metadata": {
        "deletable": false,
        "nbgrader": {
          "cell_type": "code",
          "checksum": "869532d59efa0aa9b57a72f7c3fd7921",
          "grade": false,
          "grade_id": "odd_num_ans",
          "locked": false,
          "schema_version": 3,
          "solution": true,
          "task": false
        },
        "id": "7AlB0iskYNF8"
      },
      "outputs": [],
      "source": [
        "import numpy as np\n",
        "def odd_num(lst_1):\n",
        "    \"\"\"Write a Python program to print the odd numbers from a given list and in ascending order.\"\"\"\n",
        "    # YOUR CODE HERE\n",
        "    return [x for x in sorted(lst_1) if x%2 == 1]\n",
        "   \n",
        "    \n",
        "    raise NotImplementedError()"
      ]
    },
    {
      "cell_type": "code",
      "execution_count": 16,
      "metadata": {
        "id": "jLyxiz2bYNF8",
        "outputId": "eeb28991-af96-4e4a-d6fb-b4cd126c3d04",
        "colab": {
          "base_uri": "https://localhost:8080/"
        }
      },
      "outputs": [
        {
          "output_type": "execute_result",
          "data": {
            "text/plain": [
              "[3, 11, 17, 19]"
            ]
          },
          "metadata": {},
          "execution_count": 16
        }
      ],
      "source": [
        "odd_num([2, 3, 14, 17, 8, 19, 11, 14])"
      ]
    },
    {
      "cell_type": "code",
      "execution_count": 17,
      "metadata": {
        "deletable": false,
        "editable": false,
        "nbgrader": {
          "cell_type": "code",
          "checksum": "166f8b8866a51e8182926e8083822380",
          "grade": true,
          "grade_id": "odd_num_test",
          "locked": true,
          "points": 1,
          "schema_version": 3,
          "solution": false,
          "task": false
        },
        "id": "uw4jZ-e2YNF8"
      },
      "outputs": [],
      "source": [
        "assert odd_num([1, 2, 3, 4, 6, 7, 8, 9]) == [1, 3, 7, 9]\n",
        "assert odd_num([2, 3, 4, 7, 8, 9, 11, 14]) == [3, 7, 9, 11]\n",
        "assert odd_num([2, 3, 14, 17, 8, 19, 11, 14]) == [ 3, 11, 17, 19]"
      ]
    },
    {
      "cell_type": "markdown",
      "metadata": {
        "id": "3FfGPu6pYNF9"
      },
      "source": [
        "## Question 5:\n",
        "Write a Python function to create and print a list where the values are square of numbers between `1` and `n`, where `n` is user defined number: Example `sqr_values(4) == [1, 4, 9]`"
      ]
    },
    {
      "cell_type": "code",
      "execution_count": 18,
      "metadata": {
        "deletable": false,
        "nbgrader": {
          "cell_type": "code",
          "checksum": "5df07d41d1fe24c9357fdc4885a57efd",
          "grade": false,
          "grade_id": "sqr_values_ans",
          "locked": false,
          "schema_version": 3,
          "solution": true,
          "task": false
        },
        "id": "pTffDTWHYNF9"
      },
      "outputs": [],
      "source": [
        "def sqr_values(n):\n",
        "    \"\"\"Write a Python program to print the square of numbers between 1 and `n`\"\"\"\n",
        "    return [i**2 for i in range(1, n)]\n",
        "        \n",
        "    # YOUR CODE HERE\n",
        "    raise NotImplementedError()"
      ]
    },
    {
      "cell_type": "code",
      "execution_count": 19,
      "metadata": {
        "id": "wiD5LnQBYNF9",
        "outputId": "c46c539b-8430-4469-ec08-9c0bed5aa9e5",
        "colab": {
          "base_uri": "https://localhost:8080/"
        }
      },
      "outputs": [
        {
          "output_type": "execute_result",
          "data": {
            "text/plain": [
              "[1, 4, 9]"
            ]
          },
          "metadata": {},
          "execution_count": 19
        }
      ],
      "source": [
        "sqr_values(4)"
      ]
    },
    {
      "cell_type": "code",
      "execution_count": 20,
      "metadata": {
        "deletable": false,
        "editable": false,
        "nbgrader": {
          "cell_type": "code",
          "checksum": "f23bc7d9c871aef82903c5edb35a39ec",
          "grade": true,
          "grade_id": "sqr_values_test",
          "locked": true,
          "points": 1,
          "schema_version": 3,
          "solution": false,
          "task": false
        },
        "id": "r9_5cPwrYNF9"
      },
      "outputs": [],
      "source": [
        "\"\"\"Check that sqr_values returns the correct answer for various inputs.\"\"\"\n",
        "assert sqr_values(4) == [1, 4, 9]\n",
        "assert sqr_values(8) == [1, 4, 9, 16, 25, 36, 49]\n",
        "assert sqr_values(9) == [1, 4, 9, 16, 25, 36, 49, 64]\n",
        "assert sqr_values(11) == [1, 4, 9, 16, 25, 36, 49, 64, 81, 100]"
      ]
    },
    {
      "cell_type": "markdown",
      "metadata": {
        "id": "zGyXzfYpYNF-"
      },
      "source": [
        "## Question 6: \n",
        "Write a Python program to generate all combinations of string with r length subsequences of elements from the input iterable.\n",
        "\n",
        "A combination is a mathematical technique that determines the number of possible arrangements in a collection of items where the order of the selection does not matter. In combinations, you can select the items in any order.\n",
        "\n",
        "Examples: comb_list('ABCD', 2) = [('A', 'B'), ('A', 'C'), ('A', 'D'), ('B', 'C'), ('B', 'D'), ('C', 'D')]"
      ]
    },
    {
      "cell_type": "code",
      "execution_count": 21,
      "metadata": {
        "deletable": false,
        "nbgrader": {
          "cell_type": "code",
          "checksum": "931a8c417f94bd7376d5a288ea994ea5",
          "grade": false,
          "grade_id": "comb_ans",
          "locked": false,
          "schema_version": 3,
          "solution": true,
          "task": false
        },
        "id": "TogNEpudYNF-"
      },
      "outputs": [],
      "source": [
        "from itertools import combinations\n",
        "def comb_list(str_inp,r):\n",
        "    \"\"\"Write a Python program to calculate number of days between two dates.\"\"\"\n",
        "    # YOUR CODE HERE\n",
        "    return list(combinations(str_inp,r))\n",
        "    \n",
        "    raise NotImplementedError()"
      ]
    },
    {
      "cell_type": "code",
      "execution_count": 22,
      "metadata": {
        "id": "25TBIeIsYNF-",
        "outputId": "1db07847-d8b0-44c9-e739-24d6e1255460",
        "colab": {
          "base_uri": "https://localhost:8080/"
        }
      },
      "outputs": [
        {
          "output_type": "execute_result",
          "data": {
            "text/plain": [
              "[('A', 'B'), ('A', 'C'), ('A', 'D'), ('B', 'C'), ('B', 'D'), ('C', 'D')]"
            ]
          },
          "metadata": {},
          "execution_count": 22
        }
      ],
      "source": [
        "comb_list('ABCD',2)"
      ]
    },
    {
      "cell_type": "code",
      "execution_count": 23,
      "metadata": {
        "deletable": false,
        "editable": false,
        "nbgrader": {
          "cell_type": "code",
          "checksum": "0d600eabaac9cedd40f8a7b8e6dcb085",
          "grade": true,
          "grade_id": "comb_test",
          "locked": true,
          "points": 1,
          "schema_version": 3,
          "solution": false,
          "task": false
        },
        "id": "IULpNCOaYNF-"
      },
      "outputs": [],
      "source": [
        "assert comb_list('ABC',2) == [('A', 'B'), ('A', 'C'), ('B', 'C')]\n",
        "assert comb_list('MNOP',3) == [('M', 'N', 'O'), ('M', 'N', 'P'), ('M', 'O', 'P'), ('N', 'O', 'P')]"
      ]
    }
  ],
  "metadata": {
    "kernelspec": {
      "display_name": "Python 3 (ipykernel)",
      "language": "python",
      "name": "python3"
    },
    "language_info": {
      "codemirror_mode": {
        "name": "ipython",
        "version": 3
      },
      "file_extension": ".py",
      "mimetype": "text/x-python",
      "name": "python",
      "nbconvert_exporter": "python",
      "pygments_lexer": "ipython3",
      "version": "3.9.12"
    },
    "colab": {
      "provenance": []
    }
  },
  "nbformat": 4,
  "nbformat_minor": 0
}